{
 "cells": [
  {
   "cell_type": "code",
   "execution_count": 8,
   "metadata": {},
   "outputs": [],
   "source": [
    "from bs4 import BeautifulSoup\n",
    "from selenium import webdriver\n",
    "import pandas as pd\n",
    "from time import sleep \n",
    "import scrapy\n",
    "import random\n",
    "from selenium.webdriver.common.by import By\n",
    "from selenium.webdriver.chrome.options import Options\n",
    "from selenium.webdriver.support import expected_conditions as EC\n",
    "from selenium.webdriver.support.ui import WebDriverWait\n",
    "import time\n",
    "\n",
    "\n"
   ]
  },
  {
   "cell_type": "code",
   "execution_count": 10,
   "metadata": {},
   "outputs": [
    {
     "name": "stdout",
     "output_type": "stream",
     "text": [
      "jgonzalezt5@correo.uss.cl 521feeaa9D\n"
     ]
    }
   ],
   "source": [
    "import getpass\n",
    "Usuario = input(\"Ingrese su correo USS: \")\n",
    "Contraseña = getpass.getpass(\"Ingrese contraseña(Se vera oculta): \")\n",
    "print(Usuario, Contraseña)\n"
   ]
  },
  {
   "cell_type": "code",
   "execution_count": 33,
   "metadata": {},
   "outputs": [],
   "source": [
    "#Vamos a la Pag principal entregada y seleccionamos el apartado\n",
    "driver = webdriver.Chrome(\"./chromedriver.exe\")\n",
    "driver.get(\"https://biblioteca.uss.cl/dpto-referencia-y-recursos-electr/base-de-datos\")\n",
    "time.sleep(3)\n",
    "boton = driver.find_element(By.XPATH, '//div[@class=\"wrapp\"]//div[@class=\"content\"]//div[@class=\"colecciones\"]//h1[contains(text(), \"Web of Science\")]')\n",
    "boton.click()\n",
    "#Apretamos \n",
    "time.sleep(6)\n",
    "driver.get(\"https://bdigitaluss.remotexs.co/user/login?dest=http%3A%2F%2Fapps.webofknowledge.com.bdigitaluss.remotexs.co%2FWOS_GeneralSearch_input.do%3Flocale%3Des_LA%26errorKey%3D%26errorKey%3D%26errorKey%3D%26product%3DWOS%26search_mode%3DGeneralSearch%26viewType%3Dinput%26preferencesSaved%3D%26SID%3D6BLBdgq8AkGcFmeD7jW\")\n",
    "botonClavUnica = driver.find_element(By.XPATH, '//div[@class=\"totonaca\"]//a[@class=\"boton_personalizado\"]')\n",
    "botonClavUnica.click()\n",
    "\n",
    "#Nos dirijimos a la nueva pestaña e ingresamos el usuario\n",
    "botonUsuario = driver.find_element(By.XPATH, '//input[@name=\"loginfmt\"]')\n",
    "botonUsuario.send_keys(Usuario)\n",
    "time.sleep(2)\n",
    "botonSiguiente = driver.find_element(By.XPATH, '//div[@class=\"inline-block\"]//input[@id=\"idSIButton9\"]')\n",
    "botonSiguiente.click()\n",
    "\n",
    "#Nos dirijimos a la nueva pestaña e ingresamos la Contraseña\n",
    "botonContraseña = driver.find_element(By.XPATH, '//div[@class=\"placeholderContainer\"]//input[@name=\"passwd\"]')\n",
    "botonContraseña.send_keys(Contraseña)\n",
    "time.sleep(2)\n",
    "botonSiguiente = driver.find_element(By.XPATH, '//div[@class=\"inline-block\"]//input[@id=\"idSIButton9\"]')\n",
    "botonSiguiente.click()\n",
    "#Continuamos\n",
    "time.sleep(2)\n",
    "botonSiguiente = driver.find_element(By.XPATH, '//div[@class=\"inline-block\"]//input[@id=\"idBtn_Back\"]')\n",
    "botonSiguiente.click()\n",
    "time.sleep(15)\n",
    "#Recargamos la pagina\n",
    "driver.get(\"http://www.webofscience.com.bdigitaluss.remotexs.co/wos/woscc/basic-search\")\n",
    "    \n"
   ]
  }
 ],
 "metadata": {
  "kernelspec": {
   "display_name": "Python 3.9.12 ('base')",
   "language": "python",
   "name": "python3"
  },
  "language_info": {
   "codemirror_mode": {
    "name": "ipython",
    "version": 3
   },
   "file_extension": ".py",
   "mimetype": "text/x-python",
   "name": "python",
   "nbconvert_exporter": "python",
   "pygments_lexer": "ipython3",
   "version": "3.9.12"
  },
  "orig_nbformat": 4,
  "vscode": {
   "interpreter": {
    "hash": "fcae4b4f37530c8cf1a24c8e3ede967dd867b084d4c993fb95ce5ad46628ecf8"
   }
  }
 },
 "nbformat": 4,
 "nbformat_minor": 2
}
