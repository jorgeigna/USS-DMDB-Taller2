{
 "cells": [
  {
   "cell_type": "code",
   "execution_count": 3,
   "metadata": {},
   "outputs": [],
   "source": [
    "from bs4 import BeautifulSoup\n",
    "from selenium import webdriver\n",
    "import pandas as pd\n",
    "from time import sleep \n",
    "import scrapy\n",
    "import random\n",
    "from selenium.webdriver.common.by import By\n",
    "from selenium.webdriver.chrome.options import Options\n",
    "from selenium.webdriver.support import expected_conditions as EC\n",
    "from selenium.webdriver.support.ui import WebDriverWait\n",
    "import time\n",
    "\n",
    "\n"
   ]
  },
  {
   "cell_type": "code",
   "execution_count": 5,
   "metadata": {},
   "outputs": [
    {
     "name": "stdout",
     "output_type": "stream",
     "text": [
      "jgonzalezt5@correo.uss.cl 521feeaa9D\n"
     ]
    }
   ],
   "source": [
    "import getpass\n",
    "Usuario = input(\"Ingrese su correo USS: \")\n",
    "Contraseña = getpass.getpass(\"Ingrese contraseña(Se vera oculta): \")\n",
    "print(Usuario, Contraseña)\n"
   ]
  },
  {
   "cell_type": "code",
   "execution_count": 6,
   "metadata": {},
   "outputs": [],
   "source": [
    "#Vamos a la Pag principal entregada y seleccionamos el apartado\n",
    "driver = webdriver.Chrome(\"./chromedriver.exe\")\n",
    "driver.get(\"https://biblioteca.uss.cl/dpto-referencia-y-recursos-electr/base-de-datos\")\n",
    "time.sleep(3)\n",
    "boton = driver.find_element(By.XPATH, '//div[@class=\"wrapp\"]//div[@class=\"content\"]//div[@class=\"colecciones\"]//h1[contains(text(), \"Web of Science\")]')\n",
    "boton.click()\n",
    "#Apretamos \n",
    "driver.get(\"https://bdigitaluss.remotexs.co/user/login?dest=http%3A%2F%2Fapps.webofknowledge.com.bdigitaluss.remotexs.co%2FWOS_GeneralSearch_input.do%3Flocale%3Des_LA%26errorKey%3D%26errorKey%3D%26errorKey%3D%26product%3DWOS%26search_mode%3DGeneralSearch%26viewType%3Dinput%26preferencesSaved%3D%26SID%3D6BLBdgq8AkGcFmeD7jW\")\n",
    "time.sleep(6)\n",
    "botonClavUnica = driver.find_element(By.XPATH, '//div[@class=\"totonaca\"]//a[@class=\"boton_personalizado\"]')\n",
    "botonClavUnica.click()\n",
    "\n",
    "#Nos dirijimos a la nueva pestaña e ingresamos el usuario\n",
    "time.sleep(2)\n",
    "botonUsuario = driver.find_element(By.XPATH, '//input[@name=\"loginfmt\"]')\n",
    "botonUsuario.send_keys(Usuario)\n",
    "time.sleep(2)\n",
    "botonSiguiente = driver.find_element(By.XPATH, '//div[@class=\"inline-block\"]//input[@id=\"idSIButton9\"]')\n",
    "botonSiguiente.click()\n",
    "\n",
    "#Nos dirijimos a la nueva pestaña e ingresamos la Contraseña\n",
    "time.sleep(2)\n",
    "botonContraseña = driver.find_element(By.XPATH, '//div[@class=\"placeholderContainer\"]//input[@name=\"passwd\"]')\n",
    "botonContraseña.send_keys(Contraseña)\n",
    "time.sleep(2)\n",
    "botonSiguiente = driver.find_element(By.XPATH, '//div[@class=\"inline-block\"]//input[@id=\"idSIButton9\"]')\n",
    "botonSiguiente.click()\n",
    "#Continuamos\n",
    "time.sleep(2)\n",
    "botonSiguiente = driver.find_element(By.XPATH, '//div[@class=\"inline-block\"]//input[@id=\"idBtn_Back\"]')\n",
    "botonSiguiente.click()\n",
    "time.sleep(15)\n",
    "\n",
    "#Recargamos la pagina\n",
    "driver.get(\"http://www.webofscience.com.bdigitaluss.remotexs.co/wos/woscc/basic-search\")\n",
    "time.sleep(7)\n",
    "\n",
    "#Cerramos pestañas emergentes\n",
    "botonExtra = driver.find_element(By.XPATH, '//div[@id=\"pendo-g-2nOetVy8rUwY0Hi-z-UzaUE9e5E\"]//div[@id=\"pendo-guide-container\"]//button[@id=\"pendo-close-guide-5600f670\"]')\n",
    "botonExtra.click()\n",
    "time.sleep(2)\n",
    "botonExtra = driver.find_element(By.XPATH, '//div[@class=\"_pendo-step-container-size\"]//div[@id=\"pendo-guide-container\"]//button[@class=\"_pendo-close-guide\"]')\n",
    "botonExtra.click()\n",
    "time.sleep(2)\n",
    "    \n",
    "#Ingresamos la busqueda y continuamos\n",
    "Busqueda = \"Artificial Intelligence\"\n",
    "botonBusqueda = driver.find_element(By.XPATH, '//div[@class=\"search-form\"]//div[@class=\"mat-form-field-infix ng-tns-c60-7\"]//input[@name=\"search-main-box\"]')\n",
    "botonBusqueda.send_keys(Busqueda)\n",
    "time.sleep(2)\n",
    "\n",
    "#Filtramos por fechas\n",
    "botonF1 = driver.find_element(By.XPATH, '//div[@style=\"display: inline-block;\"]//button[@class=\"mat-focus-indicator cdx-but-md uppercase-button add-timespan-row mat-stroked-button mat-button-base mat-primary ng-star-inserted\"]')\n",
    "botonF1.click()\n",
    "time.sleep(2)\n",
    "botonF2 = driver.find_element(By.XPATH, '//div[@class=\"row ng-star-inserted\"]//div[@class=\"timespan-select-holder\"]//button[@class=\"dropdown\"]')\n",
    "botonF2.click()\n",
    "time.sleep(2)\n",
    "botonF3 = driver.find_element(By.XPATH, '//div[@class=\"timespan-select-holder\"]//div[@class=\"dropdown-panel ng-star-inserted\"]//div[@class=\"options\"]/div[last()]')\n",
    "botonF3.click()\n",
    "time.sleep(2)\n",
    "Fecha1 = \"2010-01-01\"\n",
    "Fecha2 = \"2022-01-01\"\n",
    "botonFecha1 = driver.find_element(By.XPATH, '//div[@class=\"search-criteria-input-holder ng-star-inserted\"]/input[1]')\n",
    "botonFecha1.send_keys(Fecha1)\n",
    "botonFecha2 = driver.find_element(By.XPATH, '//div[@class=\"search-criteria-input-holder ng-star-inserted\"]/input[last()]')\n",
    "botonFecha2.send_keys(Fecha2)\n",
    "time.sleep(3)\n",
    "botonSiguiente = driver.find_element(By.XPATH, '//div[@class=\"button-row\"]//button[@class=\"mat-focus-indicator cdx-but-md search uppercase-button mat-flat-button mat-button-base mat-primary\"]')\n",
    "botonSiguiente.click()\n",
    "\n",
    "#Filtramos por Articulos\n",
    "time.sleep(10)\n",
    "botonArticles = driver.find_element(By.XPATH, '//div[@data-ta=\"filter-section-DT\"]//div[@class=\"ng-star-inserted\"]//div[@class=\"width-wrapper\"]/app-refine-option[2]')\n",
    "botonArticles.click()\n",
    "time.sleep(2)\n",
    "botonArticles = driver.find_element(By.XPATH, '//div[@data-ta=\"filter-section-DT\"]//div[@class=\"ng-star-inserted\"]//div[@class=\"width-wrapper\"]//div[@class=\"filter-footer ng-star-inserted\"]/button[3]')\n",
    "botonArticles.click()"
   ]
  }
 ],
 "metadata": {
  "kernelspec": {
   "display_name": "Python 3.9.12 ('base')",
   "language": "python",
   "name": "python3"
  },
  "language_info": {
   "codemirror_mode": {
    "name": "ipython",
    "version": 3
   },
   "file_extension": ".py",
   "mimetype": "text/x-python",
   "name": "python",
   "nbconvert_exporter": "python",
   "pygments_lexer": "ipython3",
   "version": "3.9.12"
  },
  "orig_nbformat": 4,
  "vscode": {
   "interpreter": {
    "hash": "fcae4b4f37530c8cf1a24c8e3ede967dd867b084d4c993fb95ce5ad46628ecf8"
   }
  }
 },
 "nbformat": 4,
 "nbformat_minor": 2
}
