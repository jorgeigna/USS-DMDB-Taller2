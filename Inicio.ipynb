{
 "cells": [
  {
   "cell_type": "code",
   "execution_count": 77,
   "metadata": {},
   "outputs": [],
   "source": [
    "from bs4 import BeautifulSoup\n",
    "from selenium import webdriver\n",
    "import pandas as pd\n",
    "from time import sleep \n",
    "import scrapy\n",
    "import random\n",
    "from selenium.webdriver.common.by import By\n",
    "from selenium.webdriver.chrome.options import Options\n",
    "from selenium.webdriver.support import expected_conditions as EC\n",
    "from selenium.webdriver.support.ui import WebDriverWait\n",
    "import time\n",
    "from pandas import ExcelWriter\n",
    "import xlsxwriter\n",
    "\n"
   ]
  },
  {
   "cell_type": "code",
   "execution_count": 7,
   "metadata": {},
   "outputs": [
    {
     "name": "stdout",
     "output_type": "stream",
     "text": [
      "jgonzalezt5@correo.uss.cl 521feeaa9D\n"
     ]
    }
   ],
   "source": [
    "import getpass\n",
    "Usuario = input(\"Ingrese su correo USS: \")\n",
    "Contraseña = getpass.getpass(\"Ingrese contraseña(Se vera oculta): \")\n",
    "print(Usuario, Contraseña)\n"
   ]
  },
  {
   "cell_type": "code",
   "execution_count": 8,
   "metadata": {},
   "outputs": [],
   "source": [
    "#Vamos a la Pag principal entregada y seleccionamos el apartado\n",
    "driver = webdriver.Chrome(\"./chromedriver.exe\")\n",
    "driver.get(\"https://biblioteca.uss.cl/dpto-referencia-y-recursos-electr/base-de-datos\")\n",
    "time.sleep(3)\n",
    "boton = driver.find_element(By.XPATH, '//div[@class=\"wrapp\"]//div[@class=\"content\"]//div[@class=\"colecciones\"]//h1[contains(text(), \"Web of Science\")]')\n",
    "boton.click()\n",
    "#Apretamos \n",
    "driver.get(\"https://bdigitaluss.remotexs.co/user/login?dest=http%3A%2F%2Fapps.webofknowledge.com.bdigitaluss.remotexs.co%2FWOS_GeneralSearch_input.do%3Flocale%3Des_LA%26errorKey%3D%26errorKey%3D%26errorKey%3D%26product%3DWOS%26search_mode%3DGeneralSearch%26viewType%3Dinput%26preferencesSaved%3D%26SID%3D6BLBdgq8AkGcFmeD7jW\")\n",
    "time.sleep(6)\n",
    "botonClavUnica = driver.find_element(By.XPATH, '//div[@class=\"totonaca\"]//a[@class=\"boton_personalizado\"]')\n",
    "botonClavUnica.click()\n",
    "\n",
    "#Nos dirijimos a la nueva pestaña e ingresamos el usuario\n",
    "time.sleep(2)\n",
    "botonUsuario = driver.find_element(By.XPATH, '//input[@name=\"loginfmt\"]')\n",
    "botonUsuario.send_keys(Usuario)\n",
    "time.sleep(2)\n",
    "botonSiguiente = driver.find_element(By.XPATH, '//div[@class=\"inline-block\"]//input[@id=\"idSIButton9\"]')\n",
    "botonSiguiente.click()\n",
    "\n",
    "#Nos dirijimos a la nueva pestaña e ingresamos la Contraseña\n",
    "time.sleep(2)\n",
    "botonContraseña = driver.find_element(By.XPATH, '//div[@class=\"placeholderContainer\"]//input[@name=\"passwd\"]')\n",
    "botonContraseña.send_keys(Contraseña)\n",
    "time.sleep(2)\n",
    "botonSiguiente = driver.find_element(By.XPATH, '//div[@class=\"inline-block\"]//input[@id=\"idSIButton9\"]')\n",
    "botonSiguiente.click()\n",
    "#Continuamos\n",
    "time.sleep(2)\n",
    "botonSiguiente = driver.find_element(By.XPATH, '//div[@class=\"inline-block\"]//input[@id=\"idBtn_Back\"]')\n",
    "botonSiguiente.click()\n",
    "time.sleep(15)\n",
    "\n",
    "#Recargamos la pagina\n",
    "driver.get(\"http://www.webofscience.com.bdigitaluss.remotexs.co/wos/woscc/basic-search\")\n",
    "time.sleep(9)\n",
    "\n",
    "#Cerramos pestañas emergentes\n",
    "botonExtra = driver.find_element(By.XPATH, '//div[@id=\"pendo-g-2nOetVy8rUwY0Hi-z-UzaUE9e5E\"]//div[@id=\"pendo-guide-container\"]//button[@id=\"pendo-close-guide-5600f670\"]')\n",
    "botonExtra.click()\n",
    "time.sleep(2)\n",
    "botonExtra = driver.find_element(By.XPATH, '//div[@class=\"_pendo-step-container-size\"]//div[@id=\"pendo-guide-container\"]//button[@class=\"_pendo-close-guide\"]')\n",
    "botonExtra.click()\n",
    "time.sleep(2)\n",
    "    \n",
    "#Ingresamos la busqueda y continuamos\n",
    "Busqueda = \"Artificial Intelligence\"\n",
    "botonBusqueda = driver.find_element(By.XPATH, '//div[@class=\"search-form\"]//div[@class=\"mat-form-field-infix ng-tns-c60-7\"]//input[@name=\"search-main-box\"]')\n",
    "botonBusqueda.send_keys(Busqueda)\n",
    "time.sleep(2)\n",
    "\n",
    "#Filtramos por fechas\n",
    "botonF1 = driver.find_element(By.XPATH, '//div[@style=\"display: inline-block;\"]//button[@class=\"mat-focus-indicator cdx-but-md uppercase-button add-timespan-row mat-stroked-button mat-button-base mat-primary ng-star-inserted\"]')\n",
    "botonF1.click()\n",
    "time.sleep(2)\n",
    "botonF2 = driver.find_element(By.XPATH, '//div[@class=\"row ng-star-inserted\"]//div[@class=\"timespan-select-holder\"]//button[@class=\"dropdown\"]')\n",
    "botonF2.click()\n",
    "time.sleep(2)\n",
    "botonF3 = driver.find_element(By.XPATH, '//div[@class=\"timespan-select-holder\"]//div[@class=\"dropdown-panel ng-star-inserted\"]//div[@class=\"options\"]/div[last()]')\n",
    "botonF3.click()\n",
    "time.sleep(2)\n",
    "Fecha1 = \"2010-01-01\"\n",
    "Fecha2 = \"2022-01-01\"\n",
    "botonFecha1 = driver.find_element(By.XPATH, '//div[@class=\"search-criteria-input-holder ng-star-inserted\"]/input[1]')\n",
    "botonFecha1.send_keys(Fecha1)\n",
    "botonFecha2 = driver.find_element(By.XPATH, '//div[@class=\"search-criteria-input-holder ng-star-inserted\"]/input[last()]')\n",
    "botonFecha2.send_keys(Fecha2)\n",
    "time.sleep(3)\n",
    "botonSiguiente = driver.find_element(By.XPATH, '//div[@class=\"button-row\"]//button[@class=\"mat-focus-indicator cdx-but-md search uppercase-button mat-flat-button mat-button-base mat-primary\"]')\n",
    "botonSiguiente.click()\n",
    "\n",
    "#Filtramos por Articulos\n",
    "time.sleep(10)\n",
    "botonArticles = driver.find_element(By.XPATH, '//div[@data-ta=\"filter-section-DT\"]//div[@class=\"ng-star-inserted\"]//div[@class=\"width-wrapper\"]/app-refine-option[2]')\n",
    "botonArticles.click()\n",
    "time.sleep(2)\n",
    "botonArticles = driver.find_element(By.XPATH, '//div[@data-ta=\"filter-section-DT\"]//div[@class=\"ng-star-inserted\"]//div[@class=\"width-wrapper\"]//div[@class=\"filter-footer ng-star-inserted\"]/button[3]')\n",
    "botonArticles.click()"
   ]
  },
  {
   "cell_type": "code",
   "execution_count": 52,
   "metadata": {},
   "outputs": [
    {
     "name": "stdout",
     "output_type": "stream",
     "text": [
      "['Apr', '2018', '|']\n",
      "Apr 2018 | Apr 2018\n"
     ]
    }
   ],
   "source": [
    "driver.get(\"http://www.webofscience.com.bdigitaluss.remotexs.co/wos/woscc/summary/5cfb749e-ac0f-4acb-8348-e8b6008edaed-3fcc26c6/relevance/1\")\n",
    "time.sleep(2)\n",
    "articulos = driver.find_elements_by_xpath('//app-record[@class=\"ng-star-inserted\"]')\n",
    "\n",
    "for i in articulos:\n",
    "    id = i.find_element_by_xpath('.//span[@class=\"mat-checkbox-label\"]').text\n",
    "    titulo = i.find_element_by_xpath('.//h3[@class=\"ng-star-inserted\"]').text\n",
    "    autores = i.find_element_by_xpath('.//app-summary-authors[@dir=\"auto\"]/div[@class=\"ng-star-inserted\"]').text\n",
    "    revista = i.find_element_by_xpath('.//app-jcr-overlay[@class=\"ng-star-inserted\"]/span[@class=\"ng-star-inserted\"]').text\n",
    "    \n",
    "    fecha = i.find_element_by_xpath('.//span[@name=\"pubdate\"]').text\n",
    "    b = fecha.split()\n",
    "    \n",
    "    mes = b[0]\n",
    "    año = b[1]\n",
    "    \n",
    "    citaciones = i.find_element_by_xpath('.//div[@class=\"stats-section-section\"]/div[1]/a[1]').text    \n",
    "    citacionesv = i.find_element_by_xpath('.//div[@class=\"stats-section-section\"]/div[1]/div[1]').text \n",
    "    referencias = i.find_element_by_xpath('.//div[@class=\"link-container ref-count ng-star-inserted\"]//a[@class=\"stat-number font-size-24 link link-color ng-star-inserted\"]').text\n",
    "    referenciasv = i.find_element_by_xpath('.//div[@class=\"link-container ref-count ng-star-inserted\"]//div[@class=\"font-size-14 data-box-text ng-star-inserted\" or @class=\"font-size-14 data-box-text noRefs ng-star-inserted\"]').text\n",
    "    \n",
    "    if(citaciones == referencias):\n",
    "         if(citacionesv == referenciasv):\n",
    "             citaciones = \"-\"\n",
    "    if(id==\"1\"):\n",
    "        print(b)\n",
    "        print(fecha, mes, año)\n",
    "        "
   ]
  },
  {
   "cell_type": "code",
   "execution_count": 47,
   "metadata": {},
   "outputs": [
    {
     "name": "stdout",
     "output_type": "stream",
     "text": [
      "['arb', '2020', '|']\n",
      "arb 2020 |\n"
     ]
    }
   ],
   "source": [
    "a = \"arb 2020 |\"\n",
    "b = a.split()\n",
    "print(b)\n",
    "a1=b[0]\n",
    "a2=b[1]\n",
    "a3=b[2]\n",
    "print(a1,a2,a3)"
   ]
  },
  {
   "cell_type": "code",
   "execution_count": 44,
   "metadata": {},
   "outputs": [
    {
     "name": "stdout",
     "output_type": "stream",
     "text": [
      "arb2020|\n",
      "arb2020\n",
      "7\n"
     ]
    },
    {
     "ename": "AttributeError",
     "evalue": "type object 'list' has no attribute 'tupla'",
     "output_type": "error",
     "traceback": [
      "\u001b[1;31m---------------------------------------------------------------------------\u001b[0m",
      "\u001b[1;31mAttributeError\u001b[0m                            Traceback (most recent call last)",
      "\u001b[1;32mc:\\Users\\Admn\\.vscode\\vscode.GIT\\USS-DMDB-Taller2\\USS-DMDB-Taller2\\Inicio.ipynb Cell 6'\u001b[0m in \u001b[0;36m<cell line: 13>\u001b[1;34m()\u001b[0m\n\u001b[0;32m     <a href='vscode-notebook-cell:/c%3A/Users/Admn/.vscode/vscode.GIT/USS-DMDB-Taller2/USS-DMDB-Taller2/Inicio.ipynb#ch0000009?line=9'>10</a>\u001b[0m tupla \u001b[39m=\u001b[39m tupla\u001b[39m.\u001b[39mreplace(bsc2, repl)\n\u001b[0;32m     <a href='vscode-notebook-cell:/c%3A/Users/Admn/.vscode/vscode.GIT/USS-DMDB-Taller2/USS-DMDB-Taller2/Inicio.ipynb#ch0000009?line=11'>12</a>\u001b[0m \u001b[39mprint\u001b[39m(\u001b[39mlen\u001b[39m(tupla))\n\u001b[1;32m---> <a href='vscode-notebook-cell:/c%3A/Users/Admn/.vscode/vscode.GIT/USS-DMDB-Taller2/USS-DMDB-Taller2/Inicio.ipynb#ch0000009?line=12'>13</a>\u001b[0m \u001b[39mprint\u001b[39m(\u001b[39mlist\u001b[39;49m\u001b[39m.\u001b[39;49mtupla)\n",
      "\u001b[1;31mAttributeError\u001b[0m: type object 'list' has no attribute 'tupla'"
     ]
    }
   ],
   "source": [
    "a = \"arb 2020 |\"\n",
    "tupla = a\n",
    "\n",
    "bsc= \" \"\n",
    "bsc2=\"|\"\n",
    "repl= \"\"\n",
    "print(tupla.replace(bsc, repl))\n",
    "tupla = tupla.replace(bsc, repl)\n",
    "print(tupla.replace(bsc2, repl))\n",
    "tupla = tupla.replace(bsc2, repl)\n",
    "\n",
    "print(len(tupla))\n",
    "print(list.tupla)"
   ]
  },
  {
   "cell_type": "code",
   "execution_count": 25,
   "metadata": {},
   "outputs": [
    {
     "name": "stdout",
     "output_type": "stream",
     "text": [
      "Protocolo: arb\n",
      "Dominio: 2020\n"
     ]
    }
   ],
   "source": [
    "protocolo, separador, dominio = tupla \n",
    "print (\"Protocolo: {0}\\nDominio: {1}\".format(protocolo, dominio) )"
   ]
  },
  {
   "cell_type": "code",
   "execution_count": null,
   "metadata": {},
   "outputs": [],
   "source": [
    "for i in range(10):\n",
    "    print(i)\n",
    "    \n",
    "    "
   ]
  },
  {
   "cell_type": "code",
   "execution_count": 56,
   "metadata": {},
   "outputs": [],
   "source": [
    "import xlsxwriter\n",
    "\n",
    "archivo = xlsxwriter.Workbook(\"prueba.xlsx\")\n",
    "hoja = archivo.add_worksheet()\n",
    "hoja.write(0,0,\"ID\")\n",
    "archivo.close()"
   ]
  },
  {
   "cell_type": "code",
   "execution_count": 81,
   "metadata": {},
   "outputs": [
    {
     "name": "stdout",
     "output_type": "stream",
     "text": [
      "{'ID': [0, 1, 2, 3, 4], 'TITULO': ['a', 's', 'f', 'g', 'g'], 'AÑO': [1, 2, 3, 4, 5]}\n",
      "perfe\n"
     ]
    }
   ],
   "source": [
    "import pandas as pd\n",
    "from pandas import ExcelWriter\n",
    "import xlsxwriter\n",
    "\n",
    "\n",
    "id =[]\n",
    "titulo =[]\n",
    "año = []\n",
    "nombres = [\"a\",\"s\",\"f\",\"g\",\"g\",\",f\"]\n",
    "for i in range(5):\n",
    "    id.append(i)\n",
    "    titulo.append(nombres[i])\n",
    "    año.append(i+1)\n",
    "    \n",
    "    data = {'ID': id,\n",
    "            'TITULO': titulo,\n",
    "            'AÑO': año,}\n",
    "print(data)    \n",
    "\n",
    "df = pd.DataFrame(data)\n",
    "\n",
    "escritor = pd.ExcelWriter(\"pruebas.xlsx\") \n",
    "df.to_excel(escritor, sheet_name=\"Hoja1\", index=False)   \n",
    "\n",
    "escritor.save()\n",
    "print(\"perfe\")"
   ]
  }
 ],
 "metadata": {
  "kernelspec": {
   "display_name": "Python 3.9.12 ('base')",
   "language": "python",
   "name": "python3"
  },
  "language_info": {
   "codemirror_mode": {
    "name": "ipython",
    "version": 3
   },
   "file_extension": ".py",
   "mimetype": "text/x-python",
   "name": "python",
   "nbconvert_exporter": "python",
   "pygments_lexer": "ipython3",
   "version": "3.9.12"
  },
  "orig_nbformat": 4,
  "vscode": {
   "interpreter": {
    "hash": "fcae4b4f37530c8cf1a24c8e3ede967dd867b084d4c993fb95ce5ad46628ecf8"
   }
  }
 },
 "nbformat": 4,
 "nbformat_minor": 2
}
