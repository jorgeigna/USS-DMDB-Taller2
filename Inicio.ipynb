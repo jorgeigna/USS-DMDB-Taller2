{
 "cells": [
  {
   "cell_type": "code",
   "execution_count": 75,
   "metadata": {},
   "outputs": [],
   "source": [
    "from bs4 import BeautifulSoup\n",
    "from selenium import webdriver\n",
    "import pandas as pd\n",
    "from time import sleep \n",
    "import scrapy\n",
    "import random\n",
    "from selenium.webdriver.common.by import By\n",
    "from selenium.webdriver.chrome.options import Options\n",
    "from selenium.webdriver.support import expected_conditions as EC\n",
    "from selenium.webdriver.support.ui import WebDriverWait\n",
    "import time\n",
    "\n",
    "\n"
   ]
  },
  {
   "cell_type": "code",
   "execution_count": 76,
   "metadata": {},
   "outputs": [
    {
     "name": "stdout",
     "output_type": "stream",
     "text": [
      "jgonzalezt5@correo.uss.cl 521feeaa9D\n"
     ]
    }
   ],
   "source": [
    "import getpass\n",
    "Usuario = input(\"Ingrese su correo USS: \")\n",
    "Contraseña = getpass.getpass(\"Ingrese contraseña(Se vera oculta): \")\n",
    "print(Usuario, Contraseña)\n"
   ]
  },
  {
   "cell_type": "code",
   "execution_count": 86,
   "metadata": {},
   "outputs": [
    {
     "ename": "ElementClickInterceptedException",
     "evalue": "Message: element click intercepted: Element <button mat-flat-button=\"\" cdxanalyticsevent=\"\" cdxanalyticsaction=\"Search\" cdxanalyticscategory=\"wos-search-search\" color=\"primary\" tabindex=\"0\" type=\"submit\" data-ta=\"run-search\" class=\"mat-focus-indicator cdx-but-md search uppercase-button mat-flat-button mat-button-base mat-primary\">...</button> is not clickable at point (1036, 369). Other element would receive the click: <li id=\"pendo-list-item-8684809b\" data-_pendo-text-list-item-3=\"\" class=\"_pendo-text-list-item\" style=\"padding: 0px; list-style-type: disc; list-style-position: outside; position: relative; margin-left: 1.3em; border-width: 0px; border-style: solid; border-color: rgb(255, 255, 255); float: none; vertical-align: baseline; white-space: pre-wrap; max-width: none;\">...</li>\n  (Session info: chrome=103.0.5060.53)\n",
     "output_type": "error",
     "traceback": [
      "\u001b[1;31m---------------------------------------------------------------------------\u001b[0m",
      "\u001b[1;31mElementClickInterceptedException\u001b[0m          Traceback (most recent call last)",
      "\u001b[1;32mc:\\Users\\Admn\\.vscode\\vscode.GIT\\USS-DMDB-Taller2\\USS-DMDB-Taller2\\Inicio.ipynb Cell 3'\u001b[0m in \u001b[0;36m<cell line: 62>\u001b[1;34m()\u001b[0m\n\u001b[0;32m     <a href='vscode-notebook-cell:/c%3A/Users/Admn/.vscode/vscode.GIT/USS-DMDB-Taller2/USS-DMDB-Taller2/Inicio.ipynb#ch0000002?line=59'>60</a>\u001b[0m time\u001b[39m.\u001b[39msleep(\u001b[39m3\u001b[39m)\n\u001b[0;32m     <a href='vscode-notebook-cell:/c%3A/Users/Admn/.vscode/vscode.GIT/USS-DMDB-Taller2/USS-DMDB-Taller2/Inicio.ipynb#ch0000002?line=60'>61</a>\u001b[0m botonSiguiente \u001b[39m=\u001b[39m driver\u001b[39m.\u001b[39mfind_element(By\u001b[39m.\u001b[39mXPATH, \u001b[39m'\u001b[39m\u001b[39m//div[@class=\u001b[39m\u001b[39m\"\u001b[39m\u001b[39mbutton-row\u001b[39m\u001b[39m\"\u001b[39m\u001b[39m]//button[@class=\u001b[39m\u001b[39m\"\u001b[39m\u001b[39mmat-focus-indicator cdx-but-md search uppercase-button mat-flat-button mat-button-base mat-primary\u001b[39m\u001b[39m\"\u001b[39m\u001b[39m]\u001b[39m\u001b[39m'\u001b[39m)\n\u001b[1;32m---> <a href='vscode-notebook-cell:/c%3A/Users/Admn/.vscode/vscode.GIT/USS-DMDB-Taller2/USS-DMDB-Taller2/Inicio.ipynb#ch0000002?line=61'>62</a>\u001b[0m botonSiguiente\u001b[39m.\u001b[39;49mclick()\n\u001b[0;32m     <a href='vscode-notebook-cell:/c%3A/Users/Admn/.vscode/vscode.GIT/USS-DMDB-Taller2/USS-DMDB-Taller2/Inicio.ipynb#ch0000002?line=63'>64</a>\u001b[0m \u001b[39m#Filtramos por Articulos\u001b[39;00m\n\u001b[0;32m     <a href='vscode-notebook-cell:/c%3A/Users/Admn/.vscode/vscode.GIT/USS-DMDB-Taller2/USS-DMDB-Taller2/Inicio.ipynb#ch0000002?line=64'>65</a>\u001b[0m botonArticles \u001b[39m=\u001b[39m driver\u001b[39m.\u001b[39mfind_element(By\u001b[39m.\u001b[39mXPATH, \u001b[39m'\u001b[39m\u001b[39m//div[@class=\u001b[39m\u001b[39m\"\u001b[39m\u001b[39mng-star-inserted\u001b[39m\u001b[39m\"\u001b[39m\u001b[39m]//div[@class=\u001b[39m\u001b[39m\"\u001b[39m\u001b[39mwidth-wrapper\u001b[39m\u001b[39m\"\u001b[39m\u001b[39m]/app-refine-option[2]\u001b[39m\u001b[39m'\u001b[39m)\n",
      "File \u001b[1;32mc:\\Users\\Admn\\anaconda3\\lib\\site-packages\\selenium\\webdriver\\remote\\webelement.py:80\u001b[0m, in \u001b[0;36mWebElement.click\u001b[1;34m(self)\u001b[0m\n\u001b[0;32m     78\u001b[0m \u001b[39mdef\u001b[39;00m \u001b[39mclick\u001b[39m(\u001b[39mself\u001b[39m):\n\u001b[0;32m     79\u001b[0m     \u001b[39m\"\"\"Clicks the element.\"\"\"\u001b[39;00m\n\u001b[1;32m---> 80\u001b[0m     \u001b[39mself\u001b[39;49m\u001b[39m.\u001b[39;49m_execute(Command\u001b[39m.\u001b[39;49mCLICK_ELEMENT)\n",
      "File \u001b[1;32mc:\\Users\\Admn\\anaconda3\\lib\\site-packages\\selenium\\webdriver\\remote\\webelement.py:633\u001b[0m, in \u001b[0;36mWebElement._execute\u001b[1;34m(self, command, params)\u001b[0m\n\u001b[0;32m    631\u001b[0m     params \u001b[39m=\u001b[39m {}\n\u001b[0;32m    632\u001b[0m params[\u001b[39m'\u001b[39m\u001b[39mid\u001b[39m\u001b[39m'\u001b[39m] \u001b[39m=\u001b[39m \u001b[39mself\u001b[39m\u001b[39m.\u001b[39m_id\n\u001b[1;32m--> 633\u001b[0m \u001b[39mreturn\u001b[39;00m \u001b[39mself\u001b[39;49m\u001b[39m.\u001b[39;49m_parent\u001b[39m.\u001b[39;49mexecute(command, params)\n",
      "File \u001b[1;32mc:\\Users\\Admn\\anaconda3\\lib\\site-packages\\selenium\\webdriver\\remote\\webdriver.py:321\u001b[0m, in \u001b[0;36mWebDriver.execute\u001b[1;34m(self, driver_command, params)\u001b[0m\n\u001b[0;32m    319\u001b[0m response \u001b[39m=\u001b[39m \u001b[39mself\u001b[39m\u001b[39m.\u001b[39mcommand_executor\u001b[39m.\u001b[39mexecute(driver_command, params)\n\u001b[0;32m    320\u001b[0m \u001b[39mif\u001b[39;00m response:\n\u001b[1;32m--> 321\u001b[0m     \u001b[39mself\u001b[39;49m\u001b[39m.\u001b[39;49merror_handler\u001b[39m.\u001b[39;49mcheck_response(response)\n\u001b[0;32m    322\u001b[0m     response[\u001b[39m'\u001b[39m\u001b[39mvalue\u001b[39m\u001b[39m'\u001b[39m] \u001b[39m=\u001b[39m \u001b[39mself\u001b[39m\u001b[39m.\u001b[39m_unwrap_value(\n\u001b[0;32m    323\u001b[0m         response\u001b[39m.\u001b[39mget(\u001b[39m'\u001b[39m\u001b[39mvalue\u001b[39m\u001b[39m'\u001b[39m, \u001b[39mNone\u001b[39;00m))\n\u001b[0;32m    324\u001b[0m     \u001b[39mreturn\u001b[39;00m response\n",
      "File \u001b[1;32mc:\\Users\\Admn\\anaconda3\\lib\\site-packages\\selenium\\webdriver\\remote\\errorhandler.py:242\u001b[0m, in \u001b[0;36mErrorHandler.check_response\u001b[1;34m(self, response)\u001b[0m\n\u001b[0;32m    240\u001b[0m         alert_text \u001b[39m=\u001b[39m value[\u001b[39m'\u001b[39m\u001b[39malert\u001b[39m\u001b[39m'\u001b[39m]\u001b[39m.\u001b[39mget(\u001b[39m'\u001b[39m\u001b[39mtext\u001b[39m\u001b[39m'\u001b[39m)\n\u001b[0;32m    241\u001b[0m     \u001b[39mraise\u001b[39;00m exception_class(message, screen, stacktrace, alert_text)\n\u001b[1;32m--> 242\u001b[0m \u001b[39mraise\u001b[39;00m exception_class(message, screen, stacktrace)\n",
      "\u001b[1;31mElementClickInterceptedException\u001b[0m: Message: element click intercepted: Element <button mat-flat-button=\"\" cdxanalyticsevent=\"\" cdxanalyticsaction=\"Search\" cdxanalyticscategory=\"wos-search-search\" color=\"primary\" tabindex=\"0\" type=\"submit\" data-ta=\"run-search\" class=\"mat-focus-indicator cdx-but-md search uppercase-button mat-flat-button mat-button-base mat-primary\">...</button> is not clickable at point (1036, 369). Other element would receive the click: <li id=\"pendo-list-item-8684809b\" data-_pendo-text-list-item-3=\"\" class=\"_pendo-text-list-item\" style=\"padding: 0px; list-style-type: disc; list-style-position: outside; position: relative; margin-left: 1.3em; border-width: 0px; border-style: solid; border-color: rgb(255, 255, 255); float: none; vertical-align: baseline; white-space: pre-wrap; max-width: none;\">...</li>\n  (Session info: chrome=103.0.5060.53)\n"
     ]
    }
   ],
   "source": [
    "#Vamos a la Pag principal entregada y seleccionamos el apartado\n",
    "driver = webdriver.Chrome(\"./chromedriver.exe\")\n",
    "driver.get(\"https://biblioteca.uss.cl/dpto-referencia-y-recursos-electr/base-de-datos\")\n",
    "time.sleep(3)\n",
    "boton = driver.find_element(By.XPATH, '//div[@class=\"wrapp\"]//div[@class=\"content\"]//div[@class=\"colecciones\"]//h1[contains(text(), \"Web of Science\")]')\n",
    "boton.click()\n",
    "#Apretamos \n",
    "driver.get(\"https://bdigitaluss.remotexs.co/user/login?dest=http%3A%2F%2Fapps.webofknowledge.com.bdigitaluss.remotexs.co%2FWOS_GeneralSearch_input.do%3Flocale%3Des_LA%26errorKey%3D%26errorKey%3D%26errorKey%3D%26product%3DWOS%26search_mode%3DGeneralSearch%26viewType%3Dinput%26preferencesSaved%3D%26SID%3D6BLBdgq8AkGcFmeD7jW\")\n",
    "time.sleep(6)\n",
    "botonClavUnica = driver.find_element(By.XPATH, '//div[@class=\"totonaca\"]//a[@class=\"boton_personalizado\"]')\n",
    "botonClavUnica.click()\n",
    "\n",
    "#Nos dirijimos a la nueva pestaña e ingresamos el usuario\n",
    "time.sleep(2)\n",
    "botonUsuario = driver.find_element(By.XPATH, '//input[@name=\"loginfmt\"]')\n",
    "botonUsuario.send_keys(Usuario)\n",
    "time.sleep(2)\n",
    "botonSiguiente = driver.find_element(By.XPATH, '//div[@class=\"inline-block\"]//input[@id=\"idSIButton9\"]')\n",
    "botonSiguiente.click()\n",
    "\n",
    "#Nos dirijimos a la nueva pestaña e ingresamos la Contraseña\n",
    "time.sleep(2)\n",
    "botonContraseña = driver.find_element(By.XPATH, '//div[@class=\"placeholderContainer\"]//input[@name=\"passwd\"]')\n",
    "botonContraseña.send_keys(Contraseña)\n",
    "time.sleep(2)\n",
    "botonSiguiente = driver.find_element(By.XPATH, '//div[@class=\"inline-block\"]//input[@id=\"idSIButton9\"]')\n",
    "botonSiguiente.click()\n",
    "#Continuamos\n",
    "time.sleep(2)\n",
    "botonSiguiente = driver.find_element(By.XPATH, '//div[@class=\"inline-block\"]//input[@id=\"idBtn_Back\"]')\n",
    "botonSiguiente.click()\n",
    "time.sleep(15)\n",
    "\n",
    "#Recargamos la pagina\n",
    "driver.get(\"http://www.webofscience.com.bdigitaluss.remotexs.co/wos/woscc/basic-search\")\n",
    "time.sleep(6)\n",
    "    \n",
    "#Ingresamos la busqueda y continuamos\n",
    "Busqueda = \"Artificial Intelligence\"\n",
    "botonBusqueda = driver.find_element(By.XPATH, '//div[@class=\"search-form\"]//div[@class=\"mat-form-field-infix ng-tns-c60-7\"]//input[@name=\"search-main-box\"]')\n",
    "botonBusqueda.send_keys(Busqueda)\n",
    "time.sleep(2)\n",
    "\n",
    "#Cerramos pestañas emergentes\n",
    "\n",
    "\n",
    "#Filtramos por fechas\n",
    "botonF1 = driver.find_element(By.XPATH, '//div[@style=\"display: inline-block;\"]//button[@class=\"mat-focus-indicator cdx-but-md uppercase-button add-timespan-row mat-stroked-button mat-button-base mat-primary ng-star-inserted\"]')\n",
    "botonF1.click()\n",
    "time.sleep(2)\n",
    "botonF2 = driver.find_element(By.XPATH, '//div[@class=\"row ng-star-inserted\"]//div[@class=\"timespan-select-holder\"]//button[@class=\"dropdown\"]')\n",
    "botonF2.click()\n",
    "time.sleep(2)\n",
    "botonF3 = driver.find_element(By.XPATH, '//div[@class=\"timespan-select-holder\"]//div[@class=\"dropdown-panel ng-star-inserted\"]//div[@class=\"options\"]/div[last()]')\n",
    "botonF3.click()\n",
    "time.sleep(2)\n",
    "Fecha1 = \"2010-01-01\"\n",
    "Fecha2 = \"2022-01-01\"\n",
    "botonFecha1 = driver.find_element(By.XPATH, '//div[@class=\"search-criteria-input-holder ng-star-inserted\"]/input[1]')\n",
    "botonFecha1.send_keys(Fecha1)\n",
    "botonFecha2 = driver.find_element(By.XPATH, '//div[@class=\"search-criteria-input-holder ng-star-inserted\"]/input[last()]')\n",
    "botonFecha2.send_keys(Fecha2)\n",
    "time.sleep(3)\n",
    "botonSiguiente = driver.find_element(By.XPATH, '//div[@class=\"button-row\"]//button[@class=\"mat-focus-indicator cdx-but-md search uppercase-button mat-flat-button mat-button-base mat-primary\"]')\n",
    "botonSiguiente.click()\n",
    "\n",
    "#Filtramos por Articulos\n",
    "botonArticles = driver.find_element(By.XPATH, '//div[@class=\"ng-star-inserted\"]//div[@class=\"width-wrapper\"]/app-refine-option[2]')\n",
    "botonArticles.click()"
   ]
  },
  {
   "cell_type": "code",
   "execution_count": 85,
   "metadata": {},
   "outputs": [
    {
     "ename": "NoSuchElementException",
     "evalue": "Message: no such element: Unable to locate element: {\"method\":\"xpath\",\"selector\":\"//div[@class=\"ng-star-inserted\"]//div[@class=\"width-wrapper\"]/app-refine-option[2]\"}\n  (Session info: chrome=103.0.5060.53)\n",
     "output_type": "error",
     "traceback": [
      "\u001b[1;31m---------------------------------------------------------------------------\u001b[0m",
      "\u001b[1;31mNoSuchElementException\u001b[0m                    Traceback (most recent call last)",
      "\u001b[1;32mc:\\Users\\Admn\\.vscode\\vscode.GIT\\USS-DMDB-Taller2\\USS-DMDB-Taller2\\Inicio.ipynb Cell 4'\u001b[0m in \u001b[0;36m<cell line: 28>\u001b[1;34m()\u001b[0m\n\u001b[0;32m     <a href='vscode-notebook-cell:/c%3A/Users/Admn/.vscode/vscode.GIT/USS-DMDB-Taller2/USS-DMDB-Taller2/Inicio.ipynb#ch0000003?line=24'>25</a>\u001b[0m botonSiguiente\u001b[39m.\u001b[39mclick()\n\u001b[0;32m     <a href='vscode-notebook-cell:/c%3A/Users/Admn/.vscode/vscode.GIT/USS-DMDB-Taller2/USS-DMDB-Taller2/Inicio.ipynb#ch0000003?line=26'>27</a>\u001b[0m \u001b[39m#Filtramos por Articulos\u001b[39;00m\n\u001b[1;32m---> <a href='vscode-notebook-cell:/c%3A/Users/Admn/.vscode/vscode.GIT/USS-DMDB-Taller2/USS-DMDB-Taller2/Inicio.ipynb#ch0000003?line=27'>28</a>\u001b[0m botonArticles \u001b[39m=\u001b[39m driver\u001b[39m.\u001b[39;49mfind_element(By\u001b[39m.\u001b[39;49mXPATH, \u001b[39m'\u001b[39;49m\u001b[39m//div[@class=\u001b[39;49m\u001b[39m\"\u001b[39;49m\u001b[39mng-star-inserted\u001b[39;49m\u001b[39m\"\u001b[39;49m\u001b[39m]//div[@class=\u001b[39;49m\u001b[39m\"\u001b[39;49m\u001b[39mwidth-wrapper\u001b[39;49m\u001b[39m\"\u001b[39;49m\u001b[39m]/app-refine-option[2]\u001b[39;49m\u001b[39m'\u001b[39;49m)\n\u001b[0;32m     <a href='vscode-notebook-cell:/c%3A/Users/Admn/.vscode/vscode.GIT/USS-DMDB-Taller2/USS-DMDB-Taller2/Inicio.ipynb#ch0000003?line=28'>29</a>\u001b[0m botonArticles\u001b[39m.\u001b[39mclick()\n",
      "File \u001b[1;32mc:\\Users\\Admn\\anaconda3\\lib\\site-packages\\selenium\\webdriver\\remote\\webdriver.py:976\u001b[0m, in \u001b[0;36mWebDriver.find_element\u001b[1;34m(self, by, value)\u001b[0m\n\u001b[0;32m    974\u001b[0m         by \u001b[39m=\u001b[39m By\u001b[39m.\u001b[39mCSS_SELECTOR\n\u001b[0;32m    975\u001b[0m         value \u001b[39m=\u001b[39m \u001b[39m'\u001b[39m\u001b[39m[name=\u001b[39m\u001b[39m\"\u001b[39m\u001b[39m%s\u001b[39;00m\u001b[39m\"\u001b[39m\u001b[39m]\u001b[39m\u001b[39m'\u001b[39m \u001b[39m%\u001b[39m value\n\u001b[1;32m--> 976\u001b[0m \u001b[39mreturn\u001b[39;00m \u001b[39mself\u001b[39;49m\u001b[39m.\u001b[39;49mexecute(Command\u001b[39m.\u001b[39;49mFIND_ELEMENT, {\n\u001b[0;32m    977\u001b[0m     \u001b[39m'\u001b[39;49m\u001b[39musing\u001b[39;49m\u001b[39m'\u001b[39;49m: by,\n\u001b[0;32m    978\u001b[0m     \u001b[39m'\u001b[39;49m\u001b[39mvalue\u001b[39;49m\u001b[39m'\u001b[39;49m: value})[\u001b[39m'\u001b[39m\u001b[39mvalue\u001b[39m\u001b[39m'\u001b[39m]\n",
      "File \u001b[1;32mc:\\Users\\Admn\\anaconda3\\lib\\site-packages\\selenium\\webdriver\\remote\\webdriver.py:321\u001b[0m, in \u001b[0;36mWebDriver.execute\u001b[1;34m(self, driver_command, params)\u001b[0m\n\u001b[0;32m    319\u001b[0m response \u001b[39m=\u001b[39m \u001b[39mself\u001b[39m\u001b[39m.\u001b[39mcommand_executor\u001b[39m.\u001b[39mexecute(driver_command, params)\n\u001b[0;32m    320\u001b[0m \u001b[39mif\u001b[39;00m response:\n\u001b[1;32m--> 321\u001b[0m     \u001b[39mself\u001b[39;49m\u001b[39m.\u001b[39;49merror_handler\u001b[39m.\u001b[39;49mcheck_response(response)\n\u001b[0;32m    322\u001b[0m     response[\u001b[39m'\u001b[39m\u001b[39mvalue\u001b[39m\u001b[39m'\u001b[39m] \u001b[39m=\u001b[39m \u001b[39mself\u001b[39m\u001b[39m.\u001b[39m_unwrap_value(\n\u001b[0;32m    323\u001b[0m         response\u001b[39m.\u001b[39mget(\u001b[39m'\u001b[39m\u001b[39mvalue\u001b[39m\u001b[39m'\u001b[39m, \u001b[39mNone\u001b[39;00m))\n\u001b[0;32m    324\u001b[0m     \u001b[39mreturn\u001b[39;00m response\n",
      "File \u001b[1;32mc:\\Users\\Admn\\anaconda3\\lib\\site-packages\\selenium\\webdriver\\remote\\errorhandler.py:242\u001b[0m, in \u001b[0;36mErrorHandler.check_response\u001b[1;34m(self, response)\u001b[0m\n\u001b[0;32m    240\u001b[0m         alert_text \u001b[39m=\u001b[39m value[\u001b[39m'\u001b[39m\u001b[39malert\u001b[39m\u001b[39m'\u001b[39m]\u001b[39m.\u001b[39mget(\u001b[39m'\u001b[39m\u001b[39mtext\u001b[39m\u001b[39m'\u001b[39m)\n\u001b[0;32m    241\u001b[0m     \u001b[39mraise\u001b[39;00m exception_class(message, screen, stacktrace, alert_text)\n\u001b[1;32m--> 242\u001b[0m \u001b[39mraise\u001b[39;00m exception_class(message, screen, stacktrace)\n",
      "\u001b[1;31mNoSuchElementException\u001b[0m: Message: no such element: Unable to locate element: {\"method\":\"xpath\",\"selector\":\"//div[@class=\"ng-star-inserted\"]//div[@class=\"width-wrapper\"]/app-refine-option[2]\"}\n  (Session info: chrome=103.0.5060.53)\n"
     ]
    }
   ],
   "source": [
    "driver.get(\"http://www.webofscience.com.bdigitaluss.remotexs.co/wos/woscc/basic-search\")\n",
    "#Ingresamos la busqueda y continuamos\n",
    "Busqueda = \"Artificial Intelligence\"\n",
    "botonBusqueda = driver.find_element(By.XPATH, '//div[@class=\"search-form\"]//div[@class=\"mat-form-field-infix ng-tns-c60-7\"]//input[@name=\"search-main-box\"]')\n",
    "botonBusqueda.send_keys(Busqueda)\n",
    "time.sleep(2)\n",
    "#Filtramos por fechas\n",
    "botonF1 = driver.find_element(By.XPATH, '//div[@style=\"display: inline-block;\"]//button[@class=\"mat-focus-indicator cdx-but-md uppercase-button add-timespan-row mat-stroked-button mat-button-base mat-primary ng-star-inserted\"]')\n",
    "botonF1.click()\n",
    "time.sleep(2)\n",
    "botonF2 = driver.find_element(By.XPATH, '//div[@class=\"row ng-star-inserted\"]//div[@class=\"timespan-select-holder\"]//button[@class=\"dropdown\"]')\n",
    "botonF2.click()\n",
    "time.sleep(2)\n",
    "botonF3 = driver.find_element(By.XPATH, '//div[@class=\"timespan-select-holder\"]//div[@class=\"dropdown-panel ng-star-inserted\"]//div[@class=\"options\"]/div[last()]')\n",
    "botonF3.click()\n",
    "time.sleep(2)\n",
    "Fecha1 = \"2010-01-01\"\n",
    "Fecha2 = \"2022-01-01\"\n",
    "botonFecha1 = driver.find_element(By.XPATH, '//div[@class=\"search-criteria-input-holder ng-star-inserted\"]/input[1]')\n",
    "botonFecha1.send_keys(Fecha1)\n",
    "botonFecha2 = driver.find_element(By.XPATH, '//div[@class=\"search-criteria-input-holder ng-star-inserted\"]/input[last()]')\n",
    "botonFecha2.send_keys(Fecha2)\n",
    "time.sleep(3)\n",
    "botonSiguiente = driver.find_element(By.XPATH, '//div[@class=\"button-row\"]//button[@class=\"mat-focus-indicator cdx-but-md search uppercase-button mat-flat-button mat-button-base mat-primary\"]')\n",
    "botonSiguiente.click()\n",
    "\n",
    "#Filtramos por Articulos\n",
    "botonArticles = driver.find_element(By.XPATH, '//div[@class=\"ng-star-inserted\"]//div[@class=\"width-wrapper\"]/app-refine-option[2]')\n",
    "botonArticles.click()"
   ]
  },
  {
   "cell_type": "code",
   "execution_count": 70,
   "metadata": {},
   "outputs": [],
   "source": [
    "driver.get(\"http://www.webofscience.com.bdigitaluss.remotexs.co/wos/woscc/summary/a13f6cd2-37c6-4dfe-b1ed-2ae3a9888eac-3fb7f94d/relevance/1\")\n",
    "time.sleep(10)\n",
    "botonArticles = driver.find_element(By.XPATH, '//div[@data-ta=\"filter-section-DT\"]//div[@class=\"ng-star-inserted\"]//div[@class=\"width-wrapper\"]/app-refine-option[2]')\n",
    "botonArticles.click()\n",
    "time.sleep(2)\n",
    "botonArticles = driver.find_element(By.XPATH, '//div[@data-ta=\"filter-section-DT\"]//div[@class=\"ng-star-inserted\"]//div[@class=\"width-wrapper\"]//div[@class=\"filter-footer ng-star-inserted\"]/button[3]')\n",
    "botonArticles.click()\n"
   ]
  }
 ],
 "metadata": {
  "kernelspec": {
   "display_name": "Python 3.9.12 ('base')",
   "language": "python",
   "name": "python3"
  },
  "language_info": {
   "codemirror_mode": {
    "name": "ipython",
    "version": 3
   },
   "file_extension": ".py",
   "mimetype": "text/x-python",
   "name": "python",
   "nbconvert_exporter": "python",
   "pygments_lexer": "ipython3",
   "version": "3.9.12"
  },
  "orig_nbformat": 4,
  "vscode": {
   "interpreter": {
    "hash": "fcae4b4f37530c8cf1a24c8e3ede967dd867b084d4c993fb95ce5ad46628ecf8"
   }
  }
 },
 "nbformat": 4,
 "nbformat_minor": 2
}
