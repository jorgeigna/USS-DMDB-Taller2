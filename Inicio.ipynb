{
 "cells": [
  {
   "cell_type": "code",
   "execution_count": 13,
   "metadata": {},
   "outputs": [],
   "source": [
    "from bs4 import BeautifulSoup\n",
    "from selenium import webdriver\n",
    "import pandas as pd\n",
    "from time import sleep \n",
    "import scrapy\n",
    "import random\n",
    "from selenium.webdriver.common.by import By\n",
    "from selenium.webdriver.chrome.options import Options\n",
    "from selenium.webdriver.support import expected_conditions as EC\n",
    "from selenium.webdriver.support.ui import WebDriverWait\n",
    "import time\n",
    "\n"
   ]
  },
  {
   "cell_type": "code",
   "execution_count": 17,
   "metadata": {},
   "outputs": [],
   "source": [
    "\n",
    "driver = webdriver.Chrome(\"./chromedriver.exe\")\n",
    "driver.get(\"https://biblioteca.uss.cl/dpto-referencia-y-recursos-electr/base-de-datos\")\n",
    "time.sleep(5)\n",
    "boton = driver.find_element(By.XPATH, '//div[@class=\"wrapp\"]//div[@class=\"content\"]//div[@class=\"colecciones\"]//h1[contains(text(), \"Web of Science\")]')\n",
    "boton.click()\n",
    "time.sleep(8)\n",
    "driver.get(\"https://bdigitaluss.remotexs.co/user/login?dest=http%3A%2F%2Fapps.webofknowledge.com.bdigitaluss.remotexs.co%2FWOS_GeneralSearch_input.do%3Flocale%3Des_LA%26errorKey%3D%26errorKey%3D%26errorKey%3D%26product%3DWOS%26search_mode%3DGeneralSearch%26viewType%3Dinput%26preferencesSaved%3D%26SID%3D6BLBdgq8AkGcFmeD7jW\")\n",
    "botonClavUnica = driver.find_element(By.XPATH, '//div[@class=\"totonaca\"]//a[@class=\"boton_personalizado\"]')\n",
    "botonClavUnica.click()"
   ]
  }
 ],
 "metadata": {
  "kernelspec": {
   "display_name": "Python 3.9.12 ('base')",
   "language": "python",
   "name": "python3"
  },
  "language_info": {
   "codemirror_mode": {
    "name": "ipython",
    "version": 3
   },
   "file_extension": ".py",
   "mimetype": "text/x-python",
   "name": "python",
   "nbconvert_exporter": "python",
   "pygments_lexer": "ipython3",
   "version": "3.9.12"
  },
  "orig_nbformat": 4,
  "vscode": {
   "interpreter": {
    "hash": "fcae4b4f37530c8cf1a24c8e3ede967dd867b084d4c993fb95ce5ad46628ecf8"
   }
  }
 },
 "nbformat": 4,
 "nbformat_minor": 2
}
