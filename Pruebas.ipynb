{
 "cells": [
  {
   "cell_type": "code",
   "execution_count": 1,
   "metadata": {},
   "outputs": [],
   "source": [
    "from bs4 import BeautifulSoup\n",
    "from selenium import webdriver\n",
    "import pandas as pd\n",
    "from time import sleep \n",
    "import scrapy\n",
    "import random\n",
    "from selenium.webdriver.common.by import By\n",
    "from selenium.webdriver.chrome.options import Options\n",
    "from selenium.webdriver.support import expected_conditions as EC\n",
    "from selenium.webdriver.support.ui import WebDriverWait\n",
    "import time\n",
    "from pandas import ExcelWriter\n",
    "import xlsxwriter\n",
    "import openpyxl\n",
    "from openpyxl import workbook\n",
    "from selenium.webdriver.common.keys import Keys"
   ]
  },
  {
   "cell_type": "code",
   "execution_count": 1,
   "metadata": {},
   "outputs": [],
   "source": [
    "import getpass\n",
    "Usuario = input(\"Ingrese su correo USS: \")\n",
    "Contraseña = getpass.getpass(\"Ingrese contraseña(Se vera oculta): \")\n",
    "print(Usuario, Contraseña)"
   ]
  },
  {
   "cell_type": "code",
   "execution_count": 12,
   "metadata": {},
   "outputs": [],
   "source": [
    "#Vamos a la Pag principal entregada y seleccionamos el apartado\n",
    "driver = webdriver.Chrome(\"./chromedriver.exe\")\n",
    "driver.get(\"https://biblioteca.uss.cl/dpto-referencia-y-recursos-electr/base-de-datos\")\n",
    "time.sleep(3)\n",
    "boton = driver.find_element(By.XPATH, '//div[@class=\"wrapp\"]//div[@class=\"content\"]//div[@class=\"colecciones\"]//h1[contains(text(), \"Web of Science\")]')\n",
    "boton.click()\n",
    "#Apretamos \n",
    "driver.get(\"https://bdigitaluss.remotexs.co/user/login?dest=http%3A%2F%2Fapps.webofknowledge.com.bdigitaluss.remotexs.co%2FWOS_GeneralSearch_input.do%3Flocale%3Des_LA%26errorKey%3D%26errorKey%3D%26errorKey%3D%26product%3DWOS%26search_mode%3DGeneralSearch%26viewType%3Dinput%26preferencesSaved%3D%26SID%3D6BLBdgq8AkGcFmeD7jW\")\n",
    "time.sleep(6)\n",
    "botonClavUnica = driver.find_element(By.XPATH, '//div[@class=\"totonaca\"]//a[@class=\"boton_personalizado\"]')\n",
    "botonClavUnica.click()\n",
    "\n",
    "#Nos dirijimos a la nueva pestaña e ingresamos el usuario\n",
    "time.sleep(2)\n",
    "botonUsuario = driver.find_element(By.XPATH, '//input[@name=\"loginfmt\"]')\n",
    "botonUsuario.send_keys(Usuario)\n",
    "time.sleep(2)\n",
    "botonSiguiente = driver.find_element(By.XPATH, '//div[@class=\"inline-block\"]//input[@id=\"idSIButton9\"]')\n",
    "botonSiguiente.click()\n",
    "\n",
    "#Nos dirijimos a la nueva pestaña e ingresamos la Contraseña\n",
    "time.sleep(2)\n",
    "botonContraseña = driver.find_element(By.XPATH, '//div[@class=\"placeholderContainer\"]//input[@name=\"passwd\"]')\n",
    "botonContraseña.send_keys(Contraseña)\n",
    "time.sleep(2)\n",
    "botonSiguiente = driver.find_element(By.XPATH, '//div[@class=\"inline-block\"]//input[@id=\"idSIButton9\"]')\n",
    "botonSiguiente.click()\n",
    "#Continuamos\n",
    "time.sleep(2)\n",
    "botonSiguiente = driver.find_element(By.XPATH, '//div[@class=\"inline-block\"]//input[@id=\"idBtn_Back\"]')\n",
    "botonSiguiente.click()\n",
    "time.sleep(15)\n",
    "\n",
    "#Recargamos la pagina\n",
    "driver.get(\"http://www.webofscience.com.bdigitaluss.remotexs.co/wos/woscc/basic-search\")\n",
    "time.sleep(9)\n",
    "\n",
    "#Cerramos pestañas emergentes\n",
    "botonExtra = driver.find_element(By.XPATH, '//div[@id=\"pendo-g-2nOetVy8rUwY0Hi-z-UzaUE9e5E\"]//div[@id=\"pendo-guide-container\"]//button[@id=\"pendo-close-guide-5600f670\"]')\n",
    "botonExtra.click()\n",
    "time.sleep(2)\n",
    "botonExtra = driver.find_element(By.XPATH, '//div[@class=\"_pendo-step-container-size\"]//div[@id=\"pendo-guide-container\"]//button[@class=\"_pendo-close-guide\"]')\n",
    "botonExtra.click()\n",
    "time.sleep(2)\n",
    "    \n",
    "#Ingresamos la busqueda y continuamos\n",
    "Busqueda = \"Security TI\"\n",
    "botonBusqueda = driver.find_element(By.XPATH, '//div[@class=\"search-form\"]//div[@class=\"mat-form-field-infix ng-tns-c60-7\"]//input[@name=\"search-main-box\"]')\n",
    "botonBusqueda.send_keys(Busqueda)\n",
    "time.sleep(2)\n",
    "\n",
    "#Filtramos por fechas\n",
    "botonF1 = driver.find_element(By.XPATH, '//div[@style=\"display: inline-block;\"]//button[@class=\"mat-focus-indicator cdx-but-md uppercase-button add-timespan-row mat-stroked-button mat-button-base mat-primary ng-star-inserted\"]')\n",
    "botonF1.click()\n",
    "time.sleep(2)\n",
    "botonF2 = driver.find_element(By.XPATH, '//div[@class=\"row ng-star-inserted\"]//div[@class=\"timespan-select-holder\"]//button[@class=\"dropdown\"]')\n",
    "botonF2.click()\n",
    "time.sleep(2)\n",
    "botonF3 = driver.find_element(By.XPATH, '//div[@class=\"timespan-select-holder\"]//div[@class=\"dropdown-panel ng-star-inserted\"]//div[@class=\"options\"]/div[last()]')\n",
    "botonF3.click()\n",
    "time.sleep(2)\n",
    "Fecha1 = \"2010-01-01\"\n",
    "Fecha2 = \"2022-01-01\"\n",
    "botonFecha1 = driver.find_element(By.XPATH, '//div[@class=\"search-criteria-input-holder ng-star-inserted\"]/input[1]')\n",
    "botonFecha1.send_keys(Fecha1)\n",
    "botonFecha2 = driver.find_element(By.XPATH, '//div[@class=\"search-criteria-input-holder ng-star-inserted\"]/input[last()]')\n",
    "botonFecha2.send_keys(Fecha2)\n",
    "time.sleep(3)\n",
    "botonSiguiente = driver.find_element(By.XPATH, '//div[@class=\"button-row\"]//button[@class=\"mat-focus-indicator cdx-but-md search uppercase-button mat-flat-button mat-button-base mat-primary\"]')\n",
    "botonSiguiente.click()\n",
    "\n",
    "#Filtramos por Articulos\n",
    "time.sleep(10)\n",
    "botonArticles = driver.find_element(By.XPATH, '//div[@data-ta=\"filter-section-DT\"]//div[@class=\"ng-star-inserted\"]//div[@class=\"width-wrapper\"]/app-refine-option[1]')\n",
    "botonArticles.click()\n",
    "time.sleep(2)\n",
    "botonArticles = driver.find_element(By.XPATH, '//div[@data-ta=\"filter-section-DT\"]//div[@class=\"ng-star-inserted\"]//div[@class=\"width-wrapper\"]//div[@class=\"filter-footer ng-star-inserted\"]/button[3]')\n",
    "botonArticles.click()"
   ]
  },
  {
   "cell_type": "code",
   "execution_count": 3,
   "metadata": {},
   "outputs": [],
   "source": [
    "from bs4 import BeautifulSoup\n",
    "import requests\n",
    "import bs4\n",
    "from urllib.parse import urljoin\n",
    "import pandas as pd\n",
    "from html.parser import HTMLParser"
   ]
  },
  {
   "cell_type": "code",
   "execution_count": 4,
   "metadata": {},
   "outputs": [],
   "source": [
    "ubicacion = 'http://www.webofscience.com.bdigitaluss.remotexs.co/wos/woscc/summary/477f4708-f739-4943-a3e8-a9dfa41bf648-40638df4/relevance/1'\n",
    "driver = webdriver.Chrome(\"./chromedriver.exe\")\n",
    "driver.get(\"http://www.webofscience.com.bdigitaluss.remotexs.co/wos/woscc/summary/477f4708-f739-4943-a3e8-a9dfa41bf648-40638df4/relevance/1\")\n",
    "\n",
    "botonClavUnica = driver.find_element(By.XPATH, '//div[@class=\"totonaca\"]//a[@class=\"boton_personalizado\"]')\n",
    "botonClavUnica.click()\n",
    "\n",
    "#Nos dirijimos a la nueva pestaña e ingresamos el usuario\n",
    "time.sleep(2)\n",
    "botonUsuario = driver.find_element(By.XPATH, '//input[@name=\"loginfmt\"]')\n",
    "botonUsuario.send_keys(Usuario)\n",
    "time.sleep(2)\n",
    "botonSiguiente = driver.find_element(By.XPATH, '//div[@class=\"inline-block\"]//input[@id=\"idSIButton9\"]')\n",
    "botonSiguiente.click()\n",
    "\n",
    "#Nos dirijimos a la nueva pestaña e ingresamos la Contraseña\n",
    "time.sleep(2)\n",
    "botonContraseña = driver.find_element(By.XPATH, '//div[@class=\"placeholderContainer\"]//input[@name=\"passwd\"]')\n",
    "botonContraseña.send_keys(Contraseña)\n",
    "time.sleep(2)\n",
    "botonSiguiente = driver.find_element(By.XPATH, '//div[@class=\"inline-block\"]//input[@id=\"idSIButton9\"]')\n",
    "botonSiguiente.click()\n",
    "#Continuamos\n",
    "time.sleep(2)\n",
    "botonSiguiente = driver.find_element(By.XPATH, '//div[@class=\"inline-block\"]//input[@id=\"idBtn_Back\"]')\n",
    "botonSiguiente.click()\n",
    "time.sleep(15)\n",
    "\n",
    "#Recargamos la pagina\n",
    "driver.get(\"http://www.webofscience.com.bdigitaluss.remotexs.co/wos/woscc/summary/477f4708-f739-4943-a3e8-a9dfa41bf648-40638df4/relevance/1\")\n",
    "time.sleep(9)\n",
    "\n",
    "\n"
   ]
  },
  {
   "cell_type": "code",
   "execution_count": 74,
   "metadata": {},
   "outputs": [
    {
     "ename": "IndexError",
     "evalue": "list index out of range",
     "output_type": "error",
     "traceback": [
      "\u001b[1;31m---------------------------------------------------------------------------\u001b[0m",
      "\u001b[1;31mIndexError\u001b[0m                                Traceback (most recent call last)",
      "\u001b[1;32mc:\\Users\\Admn\\.vscode\\vscode.GIT\\USS-DMDB-Taller2\\USS-DMDB-Taller2\\Pruebas.ipynb Cell 6'\u001b[0m in \u001b[0;36m<cell line: 1>\u001b[1;34m()\u001b[0m\n\u001b[1;32m----> <a href='vscode-notebook-cell:/c%3A/Users/Admn/.vscode/vscode.GIT/USS-DMDB-Taller2/USS-DMDB-Taller2/Pruebas.ipynb#ch0000013?line=0'>1</a>\u001b[0m driver\u001b[39m.\u001b[39mswitch_to\u001b[39m.\u001b[39mwindow(driver\u001b[39m.\u001b[39;49mwindow_handles[\u001b[39m1\u001b[39;49m])\n\u001b[0;32m      <a href='vscode-notebook-cell:/c%3A/Users/Admn/.vscode/vscode.GIT/USS-DMDB-Taller2/USS-DMDB-Taller2/Pruebas.ipynb#ch0000013?line=1'>2</a>\u001b[0m time\u001b[39m.\u001b[39msleep(\u001b[39m2\u001b[39m)\n\u001b[0;32m      <a href='vscode-notebook-cell:/c%3A/Users/Admn/.vscode/vscode.GIT/USS-DMDB-Taller2/USS-DMDB-Taller2/Pruebas.ipynb#ch0000013?line=2'>3</a>\u001b[0m driver\u001b[39m.\u001b[39mclose()\n",
      "\u001b[1;31mIndexError\u001b[0m: list index out of range"
     ]
    }
   ],
   "source": [
    "driver.switch_to.window(driver.window_handles[1])\n",
    "time.sleep(2)\n",
    "driver.close()\n",
    "time.sleep(2)\n",
    "driver.switch_to.window(driver.window_handles[0])\n",
    "time.sleep(2)"
   ]
  },
  {
   "cell_type": "code",
   "execution_count": 65,
   "metadata": {},
   "outputs": [
    {
     "ename": "KeyboardInterrupt",
     "evalue": "",
     "output_type": "error",
     "traceback": [
      "\u001b[1;31m---------------------------------------------------------------------------\u001b[0m",
      "\u001b[1;31mKeyboardInterrupt\u001b[0m                         Traceback (most recent call last)",
      "\u001b[1;32mc:\\Users\\Admn\\.vscode\\vscode.GIT\\USS-DMDB-Taller2\\USS-DMDB-Taller2\\Pruebas.ipynb Cell 7'\u001b[0m in \u001b[0;36m<cell line: 2>\u001b[1;34m()\u001b[0m\n\u001b[0;32m      <a href='vscode-notebook-cell:/c%3A/Users/Admn/.vscode/vscode.GIT/USS-DMDB-Taller2/USS-DMDB-Taller2/Pruebas.ipynb#ch0000005?line=0'>1</a>\u001b[0m driver\u001b[39m.\u001b[39mswitch_to\u001b[39m.\u001b[39mwindow(driver\u001b[39m.\u001b[39mwindow_handles[\u001b[39m0\u001b[39m])\n\u001b[1;32m----> <a href='vscode-notebook-cell:/c%3A/Users/Admn/.vscode/vscode.GIT/USS-DMDB-Taller2/USS-DMDB-Taller2/Pruebas.ipynb#ch0000005?line=1'>2</a>\u001b[0m driver\u001b[39m.\u001b[39;49mget(\u001b[39m'\u001b[39;49m\u001b[39mhttp://www.webofscience.com.bdigitaluss.remotexs.co/wos/woscc/summary/477f4708-f739-4943-a3e8-a9dfa41bf648-40638df4/relevance/1\u001b[39;49m\u001b[39m'\u001b[39;49m)\n\u001b[0;32m      <a href='vscode-notebook-cell:/c%3A/Users/Admn/.vscode/vscode.GIT/USS-DMDB-Taller2/USS-DMDB-Taller2/Pruebas.ipynb#ch0000005?line=2'>3</a>\u001b[0m time\u001b[39m.\u001b[39msleep(\u001b[39m3\u001b[39m)\n\u001b[0;32m      <a href='vscode-notebook-cell:/c%3A/Users/Admn/.vscode/vscode.GIT/USS-DMDB-Taller2/USS-DMDB-Taller2/Pruebas.ipynb#ch0000005?line=3'>4</a>\u001b[0m articulos \u001b[39m=\u001b[39m driver\u001b[39m.\u001b[39mfind_elements_by_xpath(\u001b[39m'\u001b[39m\u001b[39m//app-record[@class=\u001b[39m\u001b[39m\"\u001b[39m\u001b[39mng-star-inserted\u001b[39m\u001b[39m\"\u001b[39m\u001b[39m]\u001b[39m\u001b[39m'\u001b[39m)\n",
      "File \u001b[1;32mc:\\Users\\Admn\\anaconda3\\lib\\site-packages\\selenium\\webdriver\\remote\\webdriver.py:333\u001b[0m, in \u001b[0;36mWebDriver.get\u001b[1;34m(self, url)\u001b[0m\n\u001b[0;32m    329\u001b[0m \u001b[39mdef\u001b[39;00m \u001b[39mget\u001b[39m(\u001b[39mself\u001b[39m, url):\n\u001b[0;32m    330\u001b[0m     \u001b[39m\"\"\"\u001b[39;00m\n\u001b[0;32m    331\u001b[0m \u001b[39m    Loads a web page in the current browser session.\u001b[39;00m\n\u001b[0;32m    332\u001b[0m \u001b[39m    \"\"\"\u001b[39;00m\n\u001b[1;32m--> 333\u001b[0m     \u001b[39mself\u001b[39;49m\u001b[39m.\u001b[39;49mexecute(Command\u001b[39m.\u001b[39;49mGET, {\u001b[39m'\u001b[39;49m\u001b[39murl\u001b[39;49m\u001b[39m'\u001b[39;49m: url})\n",
      "File \u001b[1;32mc:\\Users\\Admn\\anaconda3\\lib\\site-packages\\selenium\\webdriver\\remote\\webdriver.py:319\u001b[0m, in \u001b[0;36mWebDriver.execute\u001b[1;34m(self, driver_command, params)\u001b[0m\n\u001b[0;32m    316\u001b[0m         params[\u001b[39m'\u001b[39m\u001b[39msessionId\u001b[39m\u001b[39m'\u001b[39m] \u001b[39m=\u001b[39m \u001b[39mself\u001b[39m\u001b[39m.\u001b[39msession_id\n\u001b[0;32m    318\u001b[0m params \u001b[39m=\u001b[39m \u001b[39mself\u001b[39m\u001b[39m.\u001b[39m_wrap_value(params)\n\u001b[1;32m--> 319\u001b[0m response \u001b[39m=\u001b[39m \u001b[39mself\u001b[39;49m\u001b[39m.\u001b[39;49mcommand_executor\u001b[39m.\u001b[39;49mexecute(driver_command, params)\n\u001b[0;32m    320\u001b[0m \u001b[39mif\u001b[39;00m response:\n\u001b[0;32m    321\u001b[0m     \u001b[39mself\u001b[39m\u001b[39m.\u001b[39merror_handler\u001b[39m.\u001b[39mcheck_response(response)\n",
      "File \u001b[1;32mc:\\Users\\Admn\\anaconda3\\lib\\site-packages\\selenium\\webdriver\\remote\\remote_connection.py:374\u001b[0m, in \u001b[0;36mRemoteConnection.execute\u001b[1;34m(self, command, params)\u001b[0m\n\u001b[0;32m    372\u001b[0m data \u001b[39m=\u001b[39m utils\u001b[39m.\u001b[39mdump_json(params)\n\u001b[0;32m    373\u001b[0m url \u001b[39m=\u001b[39m \u001b[39m'\u001b[39m\u001b[39m%s\u001b[39;00m\u001b[39m%s\u001b[39;00m\u001b[39m'\u001b[39m \u001b[39m%\u001b[39m (\u001b[39mself\u001b[39m\u001b[39m.\u001b[39m_url, path)\n\u001b[1;32m--> 374\u001b[0m \u001b[39mreturn\u001b[39;00m \u001b[39mself\u001b[39;49m\u001b[39m.\u001b[39;49m_request(command_info[\u001b[39m0\u001b[39;49m], url, body\u001b[39m=\u001b[39;49mdata)\n",
      "File \u001b[1;32mc:\\Users\\Admn\\anaconda3\\lib\\site-packages\\selenium\\webdriver\\remote\\remote_connection.py:397\u001b[0m, in \u001b[0;36mRemoteConnection._request\u001b[1;34m(self, method, url, body)\u001b[0m\n\u001b[0;32m    394\u001b[0m     body \u001b[39m=\u001b[39m \u001b[39mNone\u001b[39;00m\n\u001b[0;32m    396\u001b[0m \u001b[39mif\u001b[39;00m \u001b[39mself\u001b[39m\u001b[39m.\u001b[39mkeep_alive:\n\u001b[1;32m--> 397\u001b[0m     resp \u001b[39m=\u001b[39m \u001b[39mself\u001b[39;49m\u001b[39m.\u001b[39;49m_conn\u001b[39m.\u001b[39;49mrequest(method, url, body\u001b[39m=\u001b[39;49mbody, headers\u001b[39m=\u001b[39;49mheaders)\n\u001b[0;32m    399\u001b[0m     statuscode \u001b[39m=\u001b[39m resp\u001b[39m.\u001b[39mstatus\n\u001b[0;32m    400\u001b[0m \u001b[39melse\u001b[39;00m:\n",
      "File \u001b[1;32mc:\\Users\\Admn\\anaconda3\\lib\\site-packages\\urllib3\\request.py:78\u001b[0m, in \u001b[0;36mRequestMethods.request\u001b[1;34m(self, method, url, fields, headers, **urlopen_kw)\u001b[0m\n\u001b[0;32m     74\u001b[0m     \u001b[39mreturn\u001b[39;00m \u001b[39mself\u001b[39m\u001b[39m.\u001b[39mrequest_encode_url(\n\u001b[0;32m     75\u001b[0m         method, url, fields\u001b[39m=\u001b[39mfields, headers\u001b[39m=\u001b[39mheaders, \u001b[39m*\u001b[39m\u001b[39m*\u001b[39murlopen_kw\n\u001b[0;32m     76\u001b[0m     )\n\u001b[0;32m     77\u001b[0m \u001b[39melse\u001b[39;00m:\n\u001b[1;32m---> 78\u001b[0m     \u001b[39mreturn\u001b[39;00m \u001b[39mself\u001b[39m\u001b[39m.\u001b[39mrequest_encode_body(\n\u001b[0;32m     79\u001b[0m         method, url, fields\u001b[39m=\u001b[39mfields, headers\u001b[39m=\u001b[39mheaders, \u001b[39m*\u001b[39m\u001b[39m*\u001b[39murlopen_kw\n\u001b[0;32m     80\u001b[0m     )\n",
      "File \u001b[1;32mc:\\Users\\Admn\\anaconda3\\lib\\site-packages\\urllib3\\request.py:170\u001b[0m, in \u001b[0;36mRequestMethods.request_encode_body\u001b[1;34m(self, method, url, fields, headers, encode_multipart, multipart_boundary, **urlopen_kw)\u001b[0m\n\u001b[0;32m    167\u001b[0m extra_kw[\u001b[39m\"\u001b[39m\u001b[39mheaders\u001b[39m\u001b[39m\"\u001b[39m]\u001b[39m.\u001b[39mupdate(headers)\n\u001b[0;32m    168\u001b[0m extra_kw\u001b[39m.\u001b[39mupdate(urlopen_kw)\n\u001b[1;32m--> 170\u001b[0m \u001b[39mreturn\u001b[39;00m \u001b[39mself\u001b[39m\u001b[39m.\u001b[39murlopen(method, url, \u001b[39m*\u001b[39m\u001b[39m*\u001b[39mextra_kw)\n",
      "File \u001b[1;32mc:\\Users\\Admn\\anaconda3\\lib\\site-packages\\urllib3\\poolmanager.py:376\u001b[0m, in \u001b[0;36mPoolManager.urlopen\u001b[1;34m(self, method, url, redirect, **kw)\u001b[0m\n\u001b[0;32m    374\u001b[0m     response \u001b[39m=\u001b[39m conn\u001b[39m.\u001b[39murlopen(method, url, \u001b[39m*\u001b[39m\u001b[39m*\u001b[39mkw)\n\u001b[0;32m    375\u001b[0m \u001b[39melse\u001b[39;00m:\n\u001b[1;32m--> 376\u001b[0m     response \u001b[39m=\u001b[39m conn\u001b[39m.\u001b[39murlopen(method, u\u001b[39m.\u001b[39mrequest_uri, \u001b[39m*\u001b[39m\u001b[39m*\u001b[39mkw)\n\u001b[0;32m    378\u001b[0m redirect_location \u001b[39m=\u001b[39m redirect \u001b[39mand\u001b[39;00m response\u001b[39m.\u001b[39mget_redirect_location()\n\u001b[0;32m    379\u001b[0m \u001b[39mif\u001b[39;00m \u001b[39mnot\u001b[39;00m redirect_location:\n",
      "File \u001b[1;32mc:\\Users\\Admn\\anaconda3\\lib\\site-packages\\urllib3\\connectionpool.py:703\u001b[0m, in \u001b[0;36mHTTPConnectionPool.urlopen\u001b[1;34m(self, method, url, body, headers, retries, redirect, assert_same_host, timeout, pool_timeout, release_conn, chunked, body_pos, **response_kw)\u001b[0m\n\u001b[0;32m    700\u001b[0m     \u001b[39mself\u001b[39m\u001b[39m.\u001b[39m_prepare_proxy(conn)\n\u001b[0;32m    702\u001b[0m \u001b[39m# Make the request on the httplib connection object.\u001b[39;00m\n\u001b[1;32m--> 703\u001b[0m httplib_response \u001b[39m=\u001b[39m \u001b[39mself\u001b[39;49m\u001b[39m.\u001b[39;49m_make_request(\n\u001b[0;32m    704\u001b[0m     conn,\n\u001b[0;32m    705\u001b[0m     method,\n\u001b[0;32m    706\u001b[0m     url,\n\u001b[0;32m    707\u001b[0m     timeout\u001b[39m=\u001b[39;49mtimeout_obj,\n\u001b[0;32m    708\u001b[0m     body\u001b[39m=\u001b[39;49mbody,\n\u001b[0;32m    709\u001b[0m     headers\u001b[39m=\u001b[39;49mheaders,\n\u001b[0;32m    710\u001b[0m     chunked\u001b[39m=\u001b[39;49mchunked,\n\u001b[0;32m    711\u001b[0m )\n\u001b[0;32m    713\u001b[0m \u001b[39m# If we're going to release the connection in ``finally:``, then\u001b[39;00m\n\u001b[0;32m    714\u001b[0m \u001b[39m# the response doesn't need to know about the connection. Otherwise\u001b[39;00m\n\u001b[0;32m    715\u001b[0m \u001b[39m# it will also try to release it and we'll have a double-release\u001b[39;00m\n\u001b[0;32m    716\u001b[0m \u001b[39m# mess.\u001b[39;00m\n\u001b[0;32m    717\u001b[0m response_conn \u001b[39m=\u001b[39m conn \u001b[39mif\u001b[39;00m \u001b[39mnot\u001b[39;00m release_conn \u001b[39melse\u001b[39;00m \u001b[39mNone\u001b[39;00m\n",
      "File \u001b[1;32mc:\\Users\\Admn\\anaconda3\\lib\\site-packages\\urllib3\\connectionpool.py:449\u001b[0m, in \u001b[0;36mHTTPConnectionPool._make_request\u001b[1;34m(self, conn, method, url, timeout, chunked, **httplib_request_kw)\u001b[0m\n\u001b[0;32m    444\u001b[0m             httplib_response \u001b[39m=\u001b[39m conn\u001b[39m.\u001b[39mgetresponse()\n\u001b[0;32m    445\u001b[0m         \u001b[39mexcept\u001b[39;00m \u001b[39mBaseException\u001b[39;00m \u001b[39mas\u001b[39;00m e:\n\u001b[0;32m    446\u001b[0m             \u001b[39m# Remove the TypeError from the exception chain in\u001b[39;00m\n\u001b[0;32m    447\u001b[0m             \u001b[39m# Python 3 (including for exceptions like SystemExit).\u001b[39;00m\n\u001b[0;32m    448\u001b[0m             \u001b[39m# Otherwise it looks like a bug in the code.\u001b[39;00m\n\u001b[1;32m--> 449\u001b[0m             six\u001b[39m.\u001b[39;49mraise_from(e, \u001b[39mNone\u001b[39;49;00m)\n\u001b[0;32m    450\u001b[0m \u001b[39mexcept\u001b[39;00m (SocketTimeout, BaseSSLError, SocketError) \u001b[39mas\u001b[39;00m e:\n\u001b[0;32m    451\u001b[0m     \u001b[39mself\u001b[39m\u001b[39m.\u001b[39m_raise_timeout(err\u001b[39m=\u001b[39me, url\u001b[39m=\u001b[39murl, timeout_value\u001b[39m=\u001b[39mread_timeout)\n",
      "File \u001b[1;32m<string>:3\u001b[0m, in \u001b[0;36mraise_from\u001b[1;34m(value, from_value)\u001b[0m\n",
      "File \u001b[1;32mc:\\Users\\Admn\\anaconda3\\lib\\site-packages\\urllib3\\connectionpool.py:444\u001b[0m, in \u001b[0;36mHTTPConnectionPool._make_request\u001b[1;34m(self, conn, method, url, timeout, chunked, **httplib_request_kw)\u001b[0m\n\u001b[0;32m    441\u001b[0m \u001b[39mexcept\u001b[39;00m \u001b[39mTypeError\u001b[39;00m:\n\u001b[0;32m    442\u001b[0m     \u001b[39m# Python 3\u001b[39;00m\n\u001b[0;32m    443\u001b[0m     \u001b[39mtry\u001b[39;00m:\n\u001b[1;32m--> 444\u001b[0m         httplib_response \u001b[39m=\u001b[39m conn\u001b[39m.\u001b[39;49mgetresponse()\n\u001b[0;32m    445\u001b[0m     \u001b[39mexcept\u001b[39;00m \u001b[39mBaseException\u001b[39;00m \u001b[39mas\u001b[39;00m e:\n\u001b[0;32m    446\u001b[0m         \u001b[39m# Remove the TypeError from the exception chain in\u001b[39;00m\n\u001b[0;32m    447\u001b[0m         \u001b[39m# Python 3 (including for exceptions like SystemExit).\u001b[39;00m\n\u001b[0;32m    448\u001b[0m         \u001b[39m# Otherwise it looks like a bug in the code.\u001b[39;00m\n\u001b[0;32m    449\u001b[0m         six\u001b[39m.\u001b[39mraise_from(e, \u001b[39mNone\u001b[39;00m)\n",
      "File \u001b[1;32mc:\\Users\\Admn\\anaconda3\\lib\\http\\client.py:1377\u001b[0m, in \u001b[0;36mHTTPConnection.getresponse\u001b[1;34m(self)\u001b[0m\n\u001b[0;32m   1375\u001b[0m \u001b[39mtry\u001b[39;00m:\n\u001b[0;32m   1376\u001b[0m     \u001b[39mtry\u001b[39;00m:\n\u001b[1;32m-> 1377\u001b[0m         response\u001b[39m.\u001b[39;49mbegin()\n\u001b[0;32m   1378\u001b[0m     \u001b[39mexcept\u001b[39;00m \u001b[39mConnectionError\u001b[39;00m:\n\u001b[0;32m   1379\u001b[0m         \u001b[39mself\u001b[39m\u001b[39m.\u001b[39mclose()\n",
      "File \u001b[1;32mc:\\Users\\Admn\\anaconda3\\lib\\http\\client.py:320\u001b[0m, in \u001b[0;36mHTTPResponse.begin\u001b[1;34m(self)\u001b[0m\n\u001b[0;32m    318\u001b[0m \u001b[39m# read until we get a non-100 response\u001b[39;00m\n\u001b[0;32m    319\u001b[0m \u001b[39mwhile\u001b[39;00m \u001b[39mTrue\u001b[39;00m:\n\u001b[1;32m--> 320\u001b[0m     version, status, reason \u001b[39m=\u001b[39m \u001b[39mself\u001b[39;49m\u001b[39m.\u001b[39;49m_read_status()\n\u001b[0;32m    321\u001b[0m     \u001b[39mif\u001b[39;00m status \u001b[39m!=\u001b[39m CONTINUE:\n\u001b[0;32m    322\u001b[0m         \u001b[39mbreak\u001b[39;00m\n",
      "File \u001b[1;32mc:\\Users\\Admn\\anaconda3\\lib\\http\\client.py:281\u001b[0m, in \u001b[0;36mHTTPResponse._read_status\u001b[1;34m(self)\u001b[0m\n\u001b[0;32m    280\u001b[0m \u001b[39mdef\u001b[39;00m \u001b[39m_read_status\u001b[39m(\u001b[39mself\u001b[39m):\n\u001b[1;32m--> 281\u001b[0m     line \u001b[39m=\u001b[39m \u001b[39mstr\u001b[39m(\u001b[39mself\u001b[39;49m\u001b[39m.\u001b[39;49mfp\u001b[39m.\u001b[39;49mreadline(_MAXLINE \u001b[39m+\u001b[39;49m \u001b[39m1\u001b[39;49m), \u001b[39m\"\u001b[39m\u001b[39miso-8859-1\u001b[39m\u001b[39m\"\u001b[39m)\n\u001b[0;32m    282\u001b[0m     \u001b[39mif\u001b[39;00m \u001b[39mlen\u001b[39m(line) \u001b[39m>\u001b[39m _MAXLINE:\n\u001b[0;32m    283\u001b[0m         \u001b[39mraise\u001b[39;00m LineTooLong(\u001b[39m\"\u001b[39m\u001b[39mstatus line\u001b[39m\u001b[39m\"\u001b[39m)\n",
      "File \u001b[1;32mc:\\Users\\Admn\\anaconda3\\lib\\socket.py:704\u001b[0m, in \u001b[0;36mSocketIO.readinto\u001b[1;34m(self, b)\u001b[0m\n\u001b[0;32m    702\u001b[0m \u001b[39mwhile\u001b[39;00m \u001b[39mTrue\u001b[39;00m:\n\u001b[0;32m    703\u001b[0m     \u001b[39mtry\u001b[39;00m:\n\u001b[1;32m--> 704\u001b[0m         \u001b[39mreturn\u001b[39;00m \u001b[39mself\u001b[39;49m\u001b[39m.\u001b[39;49m_sock\u001b[39m.\u001b[39;49mrecv_into(b)\n\u001b[0;32m    705\u001b[0m     \u001b[39mexcept\u001b[39;00m timeout:\n\u001b[0;32m    706\u001b[0m         \u001b[39mself\u001b[39m\u001b[39m.\u001b[39m_timeout_occurred \u001b[39m=\u001b[39m \u001b[39mTrue\u001b[39;00m\n",
      "\u001b[1;31mKeyboardInterrupt\u001b[0m: "
     ]
    }
   ],
   "source": [
    "driver.switch_to.window(driver.window_handles[0])\n",
    "driver.get('http://www.webofscience.com.bdigitaluss.remotexs.co/wos/woscc/summary/477f4708-f739-4943-a3e8-a9dfa41bf648-40638df4/relevance/1')\n",
    "time.sleep(3)\n",
    "articulos = driver.find_elements_by_xpath('//app-record[@class=\"ng-star-inserted\"]')\n",
    "num = 0\n",
    "for e in range(2):\n",
    "    for i in articulos:\n",
    "        \n",
    "        print(num)\n",
    "        articulos = driver.find_elements_by_xpath('//app-record[@class=\"ng-star-inserted\"]')    \n",
    "        i = articulos[num]\n",
    "        links = i.find_element_by_xpath( './/div[@class=\"ng-star-inserted\"]//a[@class=\"title title-link font-size-18 ng-star-inserted\"]')\n",
    "        time.sleep(5)\n",
    "        print(links)\n",
    "        \n",
    "        driver.switch_to.window(driver.window_handles[1])\n",
    "        driver.get('http://www.webofscience.com.bdigitaluss.remotexs.co/wos/woscc/summary/477f4708-f739-4943-a3e8-a9dfa41bf648-40638df4/relevance/1')\n",
    "        time.sleep(5)\n",
    "        articulos = driver.find_elements_by_xpath('//app-record[@class=\"ng-star-inserted\"]')\n",
    "        i = articulos[num]\n",
    "        links = i.find_element_by_xpath( './/div[@class=\"ng-star-inserted\"]//a[@class=\"title title-link font-size-18 ng-star-inserted\"]')\n",
    "        links.click()\n",
    "        time.sleep(3)\n",
    "        driver.back()\n",
    "        driver.switch_to.window(driver.window_handles[0])\n",
    "        time.sleep(3)\n",
    "        num = num + 1\n",
    "    \n",
    "    "
   ]
  },
  {
   "cell_type": "code",
   "execution_count": 4,
   "metadata": {},
   "outputs": [
    {
     "ename": "AttributeError",
     "evalue": "'NoneType' object has no attribute 'find'",
     "output_type": "error",
     "traceback": [
      "\u001b[1;31m---------------------------------------------------------------------------\u001b[0m",
      "\u001b[1;31mAttributeError\u001b[0m                            Traceback (most recent call last)",
      "\u001b[1;32mc:\\Users\\Admn\\.vscode\\vscode.GIT\\USS-DMDB-Taller2\\USS-DMDB-Taller2\\Pruebas.ipynb Cell 6'\u001b[0m in \u001b[0;36m<cell line: 2>\u001b[1;34m()\u001b[0m\n\u001b[0;32m      <a href='vscode-notebook-cell:/c%3A/Users/Admn/.vscode/vscode.GIT/USS-DMDB-Taller2/USS-DMDB-Taller2/Pruebas.ipynb#ch0000005?line=0'>1</a>\u001b[0m boc \u001b[39m=\u001b[39m soup\u001b[39m.\u001b[39mfind(\u001b[39m'\u001b[39m\u001b[39mh1\u001b[39m\u001b[39m'\u001b[39m, class_\u001b[39m=\u001b[39m\u001b[39m'\u001b[39m\u001b[39msearch-info-title font-size-20 ng-star-inserted\u001b[39m\u001b[39m'\u001b[39m)\n\u001b[1;32m----> <a href='vscode-notebook-cell:/c%3A/Users/Admn/.vscode/vscode.GIT/USS-DMDB-Taller2/USS-DMDB-Taller2/Pruebas.ipynb#ch0000005?line=1'>2</a>\u001b[0m ind \u001b[39m=\u001b[39m boc\u001b[39m.\u001b[39;49mfind(\u001b[39m'\u001b[39m\u001b[39mspan\u001b[39m\u001b[39m'\u001b[39m)\n\u001b[0;32m      <a href='vscode-notebook-cell:/c%3A/Users/Admn/.vscode/vscode.GIT/USS-DMDB-Taller2/USS-DMDB-Taller2/Pruebas.ipynb#ch0000005?line=2'>3</a>\u001b[0m \u001b[39mprint\u001b[39m(ind)\n",
      "\u001b[1;31mAttributeError\u001b[0m: 'NoneType' object has no attribute 'find'"
     ]
    }
   ],
   "source": [
    "boc = soup.find('h1', class_='search-info-title font-size-20 ng-star-inserted')\n",
    "ind = boc.find('span')\n",
    "print(ind)"
   ]
  },
  {
   "cell_type": "code",
   "execution_count": 10,
   "metadata": {},
   "outputs": [],
   "source": [
    "urlInicial = 'http://www.webofscience.com.bdigitaluss.remotexs.co/wos/woscc/summary/477f4708-f739-4943-a3e8-a9dfa41bf648-40638df4/relevance/1'\n",
    "urlRoot = 'http://www.webofscience.com.bdigitaluss.remotexs.co/wos/woscc/summary/477f4708-f739-4943-a3e8-a9dfa41bf648-40638df4/relevance/1'\n",
    "r=requests.get(urlInicial)\n",
    "r.headers\n",
    "r.request.headers\n",
    "r.status_code\n",
    "s = BeautifulSoup(r.text, 'html.parser')"
   ]
  },
  {
   "cell_type": "code",
   "execution_count": 11,
   "metadata": {},
   "outputs": [
    {
     "data": {
      "text/plain": [
       "200"
      ]
     },
     "execution_count": 11,
     "metadata": {},
     "output_type": "execute_result"
    }
   ],
   "source": [
    "r.status_code"
   ]
  },
  {
   "cell_type": "code",
   "execution_count": 13,
   "metadata": {},
   "outputs": [
    {
     "name": "stdout",
     "output_type": "stream",
     "text": [
      "[]\n"
     ]
    }
   ],
   "source": [
    "s = BeautifulSoup(r.text, 'html.parser')\n",
    "lista_articulos = s.find_all('app-record', class_='ng-star-inserted')\n",
    "linksArticulos = [x.find('h3', class_='ng-star-inserted').find('a').get('href') for x in lista_articulos]\n",
    "linksArticulos = [urljoin(urlRoot,i) for i in linksArticulos]\n",
    "print(linksArticulos)"
   ]
  },
  {
   "cell_type": "code",
   "execution_count": 8,
   "metadata": {},
   "outputs": [],
   "source": [
    "def get_url_items(sopa, url):\n",
    "    #url_root='https://books.toscrape.com/index.html' \n",
    "    lista_articulos=sopa.find_all('record', class_='ng-star-inserted')\n",
    "    linksArticulos=[x.find('h3', class_='ng-star-inserted').find('a').get('href') for x in lista_articulos]\n",
    "    linksArticulos=[urljoin(url,i) for i in linksArticulos]\n",
    "    return linksArticulos"
   ]
  },
  {
   "cell_type": "code",
   "execution_count": 9,
   "metadata": {},
   "outputs": [],
   "source": [
    "urlInicial = 'http://www.webofscience.com.bdigitaluss.remotexs.co/wos/woscc/summary/477f4708-f739-4943-a3e8-a9dfa41bf648-40638df4/relevance/1'"
   ]
  },
  {
   "cell_type": "code",
   "execution_count": null,
   "metadata": {},
   "outputs": [],
   "source": [
    "\n",
    "\n",
    "book = openpyxl.load_workbook('DatosInvestigacion.xlsx')\n",
    "sheet = book.active\n",
    "\n",
    "sheet['I1'] = \"AUTHOR KEYWORDS\"\n",
    "sheet['J1'] = \"KEYWORDS PLUS\"\n",
    "sheet['K1'] = \"CATEGORIE\"\n",
    "sheet['L1'] = \"RESEARCH AREAS\"\n",
    "\n",
    "articulos = driver.find_elements_by_xpath('//app-record[@class=\"ng-star-inserted\"]')\n",
    "#paginas = driver.find_element_by_xpath( '//div[@class=\"ng-star-inserted\"]/span[@class=\"end-page ng-star-inserted\"]').text\n",
    "#paginas = int(paginas.replace(',', ''))\n",
    "    \n",
    "for e in range(3):\n",
    "    if(e >= 1):\n",
    "        botonPaginas = driver.find_element(By.XPATH, '//div[@Class=\"ng-star-inserted\"]/button[@data-ta=\"next-page-button\"]')\n",
    "        botonPaginas.click()\n",
    "        time.sleep(5)     \n",
    "         \n",
    "    for i in articulos:\n",
    "        id = i.find_element_by_xpath('.//span[@class=\"mat-checkbox-label\"]').text\n",
    "        idclick = i.find_element_by_xpath('.//span[@class=\"mat-checkbox-label\"]')\n",
    "        idclick.click()\n",
    "        idclick.click()\n",
    "        time.sleep(1)\n",
    "        #Nos vamos a la pag del articulo\n",
    "        titulo = i.find_element_by_xpath( './/div[@class=\"ng-star-inserted\"]//a[@class=\"title title-link font-size-18 ng-star-inserted\"]')\n",
    "        \n",
    "        time.sleep(3)\n",
    "        #Extraemos los datos\n",
    "        AUTHORKEYWORDS = driver.find_element_by_xpath('//app-full-record-keywords[@class=\"ng-star-inserted\"]//div[1]').text\n",
    "        if (AUTHORKEYWORDS != \"\"):\n",
    "            a = AUTHORKEYWORDS.split()\n",
    "            a.pop(0), a.pop(0)\n",
    "            a = \" \".join(a)\n",
    "            sheet[f'I{int(id)+1}'] = a\n",
    "        if (AUTHORKEYWORDS == \"\"):\n",
    "            AUTHORKEYWORDS = \"-\"\n",
    "            sheet[f'I{int(id)+1}'] = AUTHORKEYWORDS\n",
    "\n",
    "        KEYWORDSPLUS = driver.find_element_by_xpath('//app-full-record-keywords[@class=\"ng-star-inserted\"]//div[2]').text\n",
    "        if (KEYWORDSPLUS != \"\"):\n",
    "            b = KEYWORDSPLUS.split()\n",
    "            b.pop(0), b.pop(0)\n",
    "            b = \" \".join(b)\n",
    "            sheet[f'J{int(id)+1}'] = b\n",
    "        if (KEYWORDSPLUS == \"\"):\n",
    "            KEYWORDSPLUS = \"-\"\n",
    "            sheet[f'J{int(id)+1}'] = KEYWORDSPLUS\n",
    "            \n",
    "        CATEGORIE = driver.find_element_by_xpath('.//app-full-record-keywords[@class=\"ng-star-inserted\"]/div[3]').text\n",
    "        if (CATEGORIE != \"\"):\n",
    "            c = CATEGORIE.split()\n",
    "            c.pop(0)\n",
    "            c = \" \".join(c)\n",
    "            sheet[f'K{int(id)+1}'] = c\n",
    "        if (CATEGORIE == \"\"):\n",
    "            CATEGORIE = \"-\"\n",
    "            sheet[f'K{int(id)+1}'] = CATEGORIE\n",
    "            \n",
    "        RESEARCHAREAS = driver.find_element_by_xpath('.//app-full-record-keywords[@class=\"ng-star-inserted\"]/div[4]').text\n",
    "        if (RESEARCHAREAS != \"\"):\n",
    "            d = RESEARCHAREAS.split()\n",
    "            d.pop(0), d.pop(0)\n",
    "            d = \" \".join(d)\n",
    "            sheet[f'L{int(id)+1}'] = d\n",
    "        if (KEYWORDSPLUS == \"\"):\n",
    "            KEYWORDSPLUS = \"-\"\n",
    "            sheet[f'L{int(id)+1}'] = RESEARCHAREAS       \n",
    "        \n",
    "        #Volmemos a la pag anterior\n",
    "        time.sleep(1)\n",
    "        driver.back()\n",
    "        time.sleep(3)\n",
    "        \n",
    "        \n",
    "\n",
    "#EXCEL\n",
    "book.save('DatosInvestigacion.xlsx')\n",
    "\n",
    "\n",
    "print(\"Perfect\")   "
   ]
  }
 ],
 "metadata": {
  "kernelspec": {
   "display_name": "Python 3.9.12 ('base')",
   "language": "python",
   "name": "python3"
  },
  "language_info": {
   "codemirror_mode": {
    "name": "ipython",
    "version": 3
   },
   "file_extension": ".py",
   "mimetype": "text/x-python",
   "name": "python",
   "nbconvert_exporter": "python",
   "pygments_lexer": "ipython3",
   "version": "3.9.12"
  },
  "orig_nbformat": 4,
  "vscode": {
   "interpreter": {
    "hash": "fcae4b4f37530c8cf1a24c8e3ede967dd867b084d4c993fb95ce5ad46628ecf8"
   }
  }
 },
 "nbformat": 4,
 "nbformat_minor": 2
}
