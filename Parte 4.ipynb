{
 "cells": [
  {
   "cell_type": "code",
   "execution_count": 1,
   "id": "ff649cdc",
   "metadata": {},
   "outputs": [],
   "source": [
    "import pandas as pd\n",
    "import numpy as np\n",
    "import matplotlib.pyplot as plt\n",
    "from statsmodels.tsa.seasonal import seasonal_decompose"
   ]
  },
  {
   "cell_type": "code",
   "execution_count": 11,
   "id": "90d4e720",
   "metadata": {},
   "outputs": [],
   "source": [
    "df = pd.read_excel('DatosInvestigacion1-CargaCompleta.xlsx',parse_dates=True)\n",
    "df.index.freq = 'MS'\n"
   ]
  },
  {
   "cell_type": "code",
   "execution_count": 15,
   "id": "ace4bc73",
   "metadata": {},
   "outputs": [
    {
     "data": {
      "text/html": [
       "<div>\n",
       "<style scoped>\n",
       "    .dataframe tbody tr th:only-of-type {\n",
       "        vertical-align: middle;\n",
       "    }\n",
       "\n",
       "    .dataframe tbody tr th {\n",
       "        vertical-align: top;\n",
       "    }\n",
       "\n",
       "    .dataframe thead th {\n",
       "        text-align: right;\n",
       "    }\n",
       "</style>\n",
       "<table border=\"1\" class=\"dataframe\">\n",
       "  <thead>\n",
       "    <tr style=\"text-align: right;\">\n",
       "      <th></th>\n",
       "      <th>ID</th>\n",
       "      <th>TITULO</th>\n",
       "      <th>MES</th>\n",
       "      <th>AUTORES</th>\n",
       "      <th>REVISTA</th>\n",
       "      <th>CITACIONES</th>\n",
       "      <th>REFERENCIAS</th>\n",
       "    </tr>\n",
       "    <tr>\n",
       "      <th>AÑO</th>\n",
       "      <th></th>\n",
       "      <th></th>\n",
       "      <th></th>\n",
       "      <th></th>\n",
       "      <th></th>\n",
       "      <th></th>\n",
       "      <th></th>\n",
       "    </tr>\n",
       "  </thead>\n",
       "  <tbody>\n",
       "    <tr>\n",
       "      <th>2019-01-01</th>\n",
       "      <td>1</td>\n",
       "      <td>Security modelling and assessment of modern ne...</td>\n",
       "      <td>Dec15</td>\n",
       "      <td>Enoch, SY; Hong, JB and Kim, DS</td>\n",
       "      <td>JOURNAL OF NETWORK AND COMPUTER APPLICATIONS</td>\n",
       "      <td>5</td>\n",
       "      <td>52</td>\n",
       "    </tr>\n",
       "    <tr>\n",
       "      <th>2015-01-01</th>\n",
       "      <td>2</td>\n",
       "      <td>Formalization of security patterns as a means ...</td>\n",
       "      <td>Feb</td>\n",
       "      <td>Varela-Vaca, AJ and Gasca, RM</td>\n",
       "      <td>LOGIC JOURNAL OF THE IGPL</td>\n",
       "      <td>5</td>\n",
       "      <td>32</td>\n",
       "    </tr>\n",
       "    <tr>\n",
       "      <th>2016-01-01</th>\n",
       "      <td>3</td>\n",
       "      <td>Catalytic Decomposition of N2O over Co-Ti Oxid...</td>\n",
       "      <td>Jun21</td>\n",
       "      <td>Zhang, C; Zhang, ZP; (...); Zhu, YJ</td>\n",
       "      <td>CHEMCATCHEM</td>\n",
       "      <td>26</td>\n",
       "      <td>56</td>\n",
       "    </tr>\n",
       "    <tr>\n",
       "      <th>2022-01-01</th>\n",
       "      <td>4</td>\n",
       "      <td>Security of electronic personal health informa...</td>\n",
       "      <td>Mar4</td>\n",
       "      <td>Chuma, KG and Ngoepe, M</td>\n",
       "      <td>INFORMATION SECURITY JOURNAL</td>\n",
       "      <td>1</td>\n",
       "      <td>59</td>\n",
       "    </tr>\n",
       "    <tr>\n",
       "      <th>2020-01-01</th>\n",
       "      <td>5</td>\n",
       "      <td>Reversible Fluorescence Switching of Metal-Org...</td>\n",
       "      <td>Apr24</td>\n",
       "      <td>Venkateswarlu, S; Reddy, AS; (...); Yoon, MY</td>\n",
       "      <td>ACS APPLIED NANO MATERIALS</td>\n",
       "      <td>23</td>\n",
       "      <td>41</td>\n",
       "    </tr>\n",
       "  </tbody>\n",
       "</table>\n",
       "</div>"
      ],
      "text/plain": [
       "            ID                                             TITULO    MES  \\\n",
       "AÑO                                                                        \n",
       "2019-01-01   1  Security modelling and assessment of modern ne...  Dec15   \n",
       "2015-01-01   2  Formalization of security patterns as a means ...    Feb   \n",
       "2016-01-01   3  Catalytic Decomposition of N2O over Co-Ti Oxid...  Jun21   \n",
       "2022-01-01   4  Security of electronic personal health informa...   Mar4   \n",
       "2020-01-01   5  Reversible Fluorescence Switching of Metal-Org...  Apr24   \n",
       "\n",
       "                                                 AUTORES  \\\n",
       "AÑO                                                        \n",
       "2019-01-01               Enoch, SY; Hong, JB and Kim, DS   \n",
       "2015-01-01                 Varela-Vaca, AJ and Gasca, RM   \n",
       "2016-01-01           Zhang, C; Zhang, ZP; (...); Zhu, YJ   \n",
       "2022-01-01                       Chuma, KG and Ngoepe, M   \n",
       "2020-01-01  Venkateswarlu, S; Reddy, AS; (...); Yoon, MY   \n",
       "\n",
       "                                                 REVISTA CITACIONES  \\\n",
       "AÑO                                                                   \n",
       "2019-01-01  JOURNAL OF NETWORK AND COMPUTER APPLICATIONS          5   \n",
       "2015-01-01                     LOGIC JOURNAL OF THE IGPL          5   \n",
       "2016-01-01                                   CHEMCATCHEM         26   \n",
       "2022-01-01                  INFORMATION SECURITY JOURNAL          1   \n",
       "2020-01-01                    ACS APPLIED NANO MATERIALS         23   \n",
       "\n",
       "            REFERENCIAS  \n",
       "AÑO                      \n",
       "2019-01-01           52  \n",
       "2015-01-01           32  \n",
       "2016-01-01           56  \n",
       "2022-01-01           59  \n",
       "2020-01-01           41  "
      ]
     },
     "execution_count": 15,
     "metadata": {},
     "output_type": "execute_result"
    }
   ],
   "source": [
    "df = pd.read_excel('DatosInvestigacion1-CargaCompleta.xlsx',index_col='AÑO',parse_dates=True)\n",
    "df.head()"
   ]
  },
  {
   "cell_type": "code",
   "execution_count": 16,
   "id": "4b46d580",
   "metadata": {},
   "outputs": [
    {
     "data": {
      "text/html": [
       "<div>\n",
       "<style scoped>\n",
       "    .dataframe tbody tr th:only-of-type {\n",
       "        vertical-align: middle;\n",
       "    }\n",
       "\n",
       "    .dataframe tbody tr th {\n",
       "        vertical-align: top;\n",
       "    }\n",
       "\n",
       "    .dataframe thead th {\n",
       "        text-align: right;\n",
       "    }\n",
       "</style>\n",
       "<table border=\"1\" class=\"dataframe\">\n",
       "  <thead>\n",
       "    <tr style=\"text-align: right;\">\n",
       "      <th></th>\n",
       "      <th>ID</th>\n",
       "      <th>TITULO</th>\n",
       "      <th>AÑO</th>\n",
       "      <th>AUTORES</th>\n",
       "      <th>REVISTA</th>\n",
       "      <th>CITACIONES</th>\n",
       "      <th>REFERENCIAS</th>\n",
       "    </tr>\n",
       "    <tr>\n",
       "      <th>MES</th>\n",
       "      <th></th>\n",
       "      <th></th>\n",
       "      <th></th>\n",
       "      <th></th>\n",
       "      <th></th>\n",
       "      <th></th>\n",
       "      <th></th>\n",
       "    </tr>\n",
       "  </thead>\n",
       "  <tbody>\n",
       "    <tr>\n",
       "      <th>Dec15</th>\n",
       "      <td>1</td>\n",
       "      <td>Security modelling and assessment of modern ne...</td>\n",
       "      <td>2019</td>\n",
       "      <td>Enoch, SY; Hong, JB and Kim, DS</td>\n",
       "      <td>JOURNAL OF NETWORK AND COMPUTER APPLICATIONS</td>\n",
       "      <td>5</td>\n",
       "      <td>52</td>\n",
       "    </tr>\n",
       "    <tr>\n",
       "      <th>Feb</th>\n",
       "      <td>2</td>\n",
       "      <td>Formalization of security patterns as a means ...</td>\n",
       "      <td>2015</td>\n",
       "      <td>Varela-Vaca, AJ and Gasca, RM</td>\n",
       "      <td>LOGIC JOURNAL OF THE IGPL</td>\n",
       "      <td>5</td>\n",
       "      <td>32</td>\n",
       "    </tr>\n",
       "    <tr>\n",
       "      <th>Jun21</th>\n",
       "      <td>3</td>\n",
       "      <td>Catalytic Decomposition of N2O over Co-Ti Oxid...</td>\n",
       "      <td>2016</td>\n",
       "      <td>Zhang, C; Zhang, ZP; (...); Zhu, YJ</td>\n",
       "      <td>CHEMCATCHEM</td>\n",
       "      <td>26</td>\n",
       "      <td>56</td>\n",
       "    </tr>\n",
       "    <tr>\n",
       "      <th>Mar4</th>\n",
       "      <td>4</td>\n",
       "      <td>Security of electronic personal health informa...</td>\n",
       "      <td>2022</td>\n",
       "      <td>Chuma, KG and Ngoepe, M</td>\n",
       "      <td>INFORMATION SECURITY JOURNAL</td>\n",
       "      <td>1</td>\n",
       "      <td>59</td>\n",
       "    </tr>\n",
       "    <tr>\n",
       "      <th>Apr24</th>\n",
       "      <td>5</td>\n",
       "      <td>Reversible Fluorescence Switching of Metal-Org...</td>\n",
       "      <td>2020</td>\n",
       "      <td>Venkateswarlu, S; Reddy, AS; (...); Yoon, MY</td>\n",
       "      <td>ACS APPLIED NANO MATERIALS</td>\n",
       "      <td>23</td>\n",
       "      <td>41</td>\n",
       "    </tr>\n",
       "  </tbody>\n",
       "</table>\n",
       "</div>"
      ],
      "text/plain": [
       "       ID                                             TITULO   AÑO  \\\n",
       "MES                                                                  \n",
       "Dec15   1  Security modelling and assessment of modern ne...  2019   \n",
       "Feb     2  Formalization of security patterns as a means ...  2015   \n",
       "Jun21   3  Catalytic Decomposition of N2O over Co-Ti Oxid...  2016   \n",
       "Mar4    4  Security of electronic personal health informa...  2022   \n",
       "Apr24   5  Reversible Fluorescence Switching of Metal-Org...  2020   \n",
       "\n",
       "                                            AUTORES  \\\n",
       "MES                                                   \n",
       "Dec15               Enoch, SY; Hong, JB and Kim, DS   \n",
       "Feb                   Varela-Vaca, AJ and Gasca, RM   \n",
       "Jun21           Zhang, C; Zhang, ZP; (...); Zhu, YJ   \n",
       "Mar4                        Chuma, KG and Ngoepe, M   \n",
       "Apr24  Venkateswarlu, S; Reddy, AS; (...); Yoon, MY   \n",
       "\n",
       "                                            REVISTA CITACIONES  REFERENCIAS  \n",
       "MES                                                                          \n",
       "Dec15  JOURNAL OF NETWORK AND COMPUTER APPLICATIONS          5           52  \n",
       "Feb                       LOGIC JOURNAL OF THE IGPL          5           32  \n",
       "Jun21                                   CHEMCATCHEM         26           56  \n",
       "Mar4                   INFORMATION SECURITY JOURNAL          1           59  \n",
       "Apr24                    ACS APPLIED NANO MATERIALS         23           41  "
      ]
     },
     "execution_count": 16,
     "metadata": {},
     "output_type": "execute_result"
    }
   ],
   "source": [
    "dfMes = pd.read_excel('DatosInvestigacion1-CargaCompleta.xlsx',index_col='MES',parse_dates=True)\n",
    "dfMes.head()"
   ]
  },
  {
   "cell_type": "code",
   "execution_count": 17,
   "id": "b5566a02",
   "metadata": {},
   "outputs": [
    {
     "data": {
      "text/html": [
       "<div>\n",
       "<style scoped>\n",
       "    .dataframe tbody tr th:only-of-type {\n",
       "        vertical-align: middle;\n",
       "    }\n",
       "\n",
       "    .dataframe tbody tr th {\n",
       "        vertical-align: top;\n",
       "    }\n",
       "\n",
       "    .dataframe thead th {\n",
       "        text-align: right;\n",
       "    }\n",
       "</style>\n",
       "<table border=\"1\" class=\"dataframe\">\n",
       "  <thead>\n",
       "    <tr style=\"text-align: right;\">\n",
       "      <th></th>\n",
       "      <th>ID</th>\n",
       "    </tr>\n",
       "    <tr>\n",
       "      <th>AÑO</th>\n",
       "      <th></th>\n",
       "    </tr>\n",
       "  </thead>\n",
       "  <tbody>\n",
       "    <tr>\n",
       "      <th>2010-01-01</th>\n",
       "      <td>297</td>\n",
       "    </tr>\n",
       "    <tr>\n",
       "      <th>2010-01-01</th>\n",
       "      <td>637</td>\n",
       "    </tr>\n",
       "    <tr>\n",
       "      <th>2010-01-01</th>\n",
       "      <td>388</td>\n",
       "    </tr>\n",
       "    <tr>\n",
       "      <th>2010-01-01</th>\n",
       "      <td>45</td>\n",
       "    </tr>\n",
       "    <tr>\n",
       "      <th>2010-01-01</th>\n",
       "      <td>134</td>\n",
       "    </tr>\n",
       "    <tr>\n",
       "      <th>...</th>\n",
       "      <td>...</td>\n",
       "    </tr>\n",
       "    <tr>\n",
       "      <th>2022-01-01</th>\n",
       "      <td>148</td>\n",
       "    </tr>\n",
       "    <tr>\n",
       "      <th>2022-01-01</th>\n",
       "      <td>238</td>\n",
       "    </tr>\n",
       "    <tr>\n",
       "      <th>2022-01-01</th>\n",
       "      <td>4</td>\n",
       "    </tr>\n",
       "    <tr>\n",
       "      <th>2022-01-01</th>\n",
       "      <td>556</td>\n",
       "    </tr>\n",
       "    <tr>\n",
       "      <th>2022-01-01</th>\n",
       "      <td>289</td>\n",
       "    </tr>\n",
       "  </tbody>\n",
       "</table>\n",
       "<p>750 rows × 1 columns</p>\n",
       "</div>"
      ],
      "text/plain": [
       "             ID\n",
       "AÑO            \n",
       "2010-01-01  297\n",
       "2010-01-01  637\n",
       "2010-01-01  388\n",
       "2010-01-01   45\n",
       "2010-01-01  134\n",
       "...         ...\n",
       "2022-01-01  148\n",
       "2022-01-01  238\n",
       "2022-01-01    4\n",
       "2022-01-01  556\n",
       "2022-01-01  289\n",
       "\n",
       "[750 rows x 1 columns]"
      ]
     },
     "execution_count": 17,
     "metadata": {},
     "output_type": "execute_result"
    }
   ],
   "source": [
    "df = pd.read_excel('DatosInvestigacion1-CargaCompleta.xlsx',index_col='AÑO',parse_dates=True)\n",
    "df =df.sort_values('AÑO')\n",
    "df = df.drop(['TITULO','MES','AUTORES','REVISTA','CITACIONES','REFERENCIAS'], axis=1)\n",
    "df"
   ]
  },
  {
   "cell_type": "code",
   "execution_count": 19,
   "id": "7d2685b7",
   "metadata": {},
   "outputs": [
    {
     "data": {
      "text/html": [
       "<div>\n",
       "<style scoped>\n",
       "    .dataframe tbody tr th:only-of-type {\n",
       "        vertical-align: middle;\n",
       "    }\n",
       "\n",
       "    .dataframe tbody tr th {\n",
       "        vertical-align: top;\n",
       "    }\n",
       "\n",
       "    .dataframe thead th {\n",
       "        text-align: right;\n",
       "    }\n",
       "</style>\n",
       "<table border=\"1\" class=\"dataframe\">\n",
       "  <thead>\n",
       "    <tr style=\"text-align: right;\">\n",
       "      <th></th>\n",
       "      <th>ID</th>\n",
       "    </tr>\n",
       "    <tr>\n",
       "      <th>MES</th>\n",
       "      <th></th>\n",
       "    </tr>\n",
       "  </thead>\n",
       "  <tbody>\n",
       "    <tr>\n",
       "      <th>Apr</th>\n",
       "      <td>594</td>\n",
       "    </tr>\n",
       "    <tr>\n",
       "      <th>Apr</th>\n",
       "      <td>660</td>\n",
       "    </tr>\n",
       "    <tr>\n",
       "      <th>Apr</th>\n",
       "      <td>25</td>\n",
       "    </tr>\n",
       "    <tr>\n",
       "      <th>Apr</th>\n",
       "      <td>659</td>\n",
       "    </tr>\n",
       "    <tr>\n",
       "      <th>Apr</th>\n",
       "      <td>688</td>\n",
       "    </tr>\n",
       "    <tr>\n",
       "      <th>...</th>\n",
       "      <td>...</td>\n",
       "    </tr>\n",
       "    <tr>\n",
       "      <th>Sep7</th>\n",
       "      <td>70</td>\n",
       "    </tr>\n",
       "    <tr>\n",
       "      <th>Sep8</th>\n",
       "      <td>550</td>\n",
       "    </tr>\n",
       "    <tr>\n",
       "      <th>Sept</th>\n",
       "      <td>190</td>\n",
       "    </tr>\n",
       "    <tr>\n",
       "      <th>Win</th>\n",
       "      <td>325</td>\n",
       "    </tr>\n",
       "    <tr>\n",
       "      <th>Win</th>\n",
       "      <td>296</td>\n",
       "    </tr>\n",
       "  </tbody>\n",
       "</table>\n",
       "<p>750 rows × 1 columns</p>\n",
       "</div>"
      ],
      "text/plain": [
       "       ID\n",
       "MES      \n",
       "Apr   594\n",
       "Apr   660\n",
       "Apr    25\n",
       "Apr   659\n",
       "Apr   688\n",
       "...   ...\n",
       "Sep7   70\n",
       "Sep8  550\n",
       "Sept  190\n",
       "Win   325\n",
       "Win   296\n",
       "\n",
       "[750 rows x 1 columns]"
      ]
     },
     "execution_count": 19,
     "metadata": {},
     "output_type": "execute_result"
    }
   ],
   "source": [
    "dfMes = pd.read_excel('DatosInvestigacion1-CargaCompleta.xlsx',index_col='MES',parse_dates=True)\n",
    "dfMes =dfMes.sort_values('MES')\n",
    "dfMes = dfMes.drop(['TITULO','AÑO','AUTORES','REVISTA','CITACIONES','REFERENCIAS'], axis=1)\n",
    "dfMes"
   ]
  },
  {
   "cell_type": "code",
   "execution_count": 20,
   "id": "879e934a",
   "metadata": {},
   "outputs": [
    {
     "data": {
      "text/plain": [
       "<AxesSubplot:xlabel='AÑO'>"
      ]
     },
     "execution_count": 20,
     "metadata": {},
     "output_type": "execute_result"
    },
    {
     "data": {
      "image/png": "[encoded data removed]",
      "text/plain": [
       "<Figure size 864x432 with 1 Axes>"
      ]
     },
     "metadata": {
      "needs_background": "light"
     },
     "output_type": "display_data"
    }
   ],
   "source": [
    "df.plot(figsize=(12,6))\n"
   ]
  },
  {
   "cell_type": "code",
   "execution_count": 21,
   "id": "f2372112",
   "metadata": {},
   "outputs": [
    {
     "data": {
      "text/plain": [
       "<AxesSubplot:xlabel='MES'>"
      ]
     },
     "execution_count": 21,
     "metadata": {},
     "output_type": "execute_result"
    },
    {
     "data": {
      "image/png": "[encoded data removed]",
      "text/plain": [
       "<Figure size 864x432 with 1 Axes>"
      ]
     },
     "metadata": {
      "needs_background": "light"
     },
     "output_type": "display_data"
    }
   ],
   "source": [
    "dfMes.plot(figsize=(12,6))"
   ]
  },
  {
   "cell_type": "code",
   "execution_count": 24,
   "id": "118188e5",
   "metadata": {},
   "outputs": [
    {
     "data": {
      "text/plain": [
       "750"
      ]
     },
     "execution_count": 24,
     "metadata": {},
     "output_type": "execute_result"
    }
   ],
   "source": [
    "len(df)\n"
   ]
  },
  {
   "cell_type": "code",
   "execution_count": 28,
   "id": "cba40f88",
   "metadata": {},
   "outputs": [],
   "source": [
    "train = df.iloc[:500]\n",
    "test = df.iloc[500:]\n",
    "\n",
    "train = dfMes.iloc[:500]\n",
    "test = dfMes.iloc[500:]"
   ]
  },
  {
   "cell_type": "code",
   "execution_count": 29,
   "id": "5091d00d",
   "metadata": {},
   "outputs": [],
   "source": [
    "from sklearn.preprocessing import MinMaxScaler\n",
    "scaler = MinMaxScaler()"
   ]
  },
  {
   "cell_type": "code",
   "execution_count": 27,
   "id": "2cfbe270",
   "metadata": {},
   "outputs": [
    {
     "data": {
      "text/plain": [
       "(             ID\n",
       " AÑO            \n",
       " 2010-01-01  297\n",
       " 2010-01-01  637\n",
       " 2010-01-01  388\n",
       " 2010-01-01   45\n",
       " 2010-01-01  134,\n",
       "              ID\n",
       " AÑO            \n",
       " 2022-01-01  148\n",
       " 2022-01-01  238\n",
       " 2022-01-01    4\n",
       " 2022-01-01  556\n",
       " 2022-01-01  289)"
      ]
     },
     "execution_count": 27,
     "metadata": {},
     "output_type": "execute_result"
    }
   ],
   "source": [
    "df.head(),df.tail()"
   ]
  },
  {
   "cell_type": "code",
   "execution_count": 30,
   "id": "b9bbb030",
   "metadata": {},
   "outputs": [
    {
     "data": {
      "text/plain": [
       "(      ID\n",
       " MES     \n",
       " Apr  594\n",
       " Apr  660\n",
       " Apr   25\n",
       " Apr  659\n",
       " Apr  688,\n",
       "        ID\n",
       " MES      \n",
       " Sep7   70\n",
       " Sep8  550\n",
       " Sept  190\n",
       " Win   325\n",
       " Win   296)"
      ]
     },
     "execution_count": 30,
     "metadata": {},
     "output_type": "execute_result"
    }
   ],
   "source": [
    "dfMes.head(),dfMes.tail()"
   ]
  },
  {
   "cell_type": "code",
   "execution_count": 31,
   "id": "024eb2cb",
   "metadata": {},
   "outputs": [],
   "source": [
    "scaler.fit(train)\n",
    "scaled_train = scaler.transform(train)\n",
    "scaled_test = scaler.transform(test)"
   ]
  },
  {
   "cell_type": "code",
   "execution_count": 32,
   "id": "70e603f6",
   "metadata": {},
   "outputs": [
    {
     "data": {
      "text/plain": [
       "array([[0.7917223 ],\n",
       "       [0.87983979],\n",
       "       [0.03204272],\n",
       "       [0.87850467],\n",
       "       [0.91722296],\n",
       "       [0.82376502],\n",
       "       [0.56608812],\n",
       "       [0.31108144],\n",
       "       [0.74098798],\n",
       "       [0.72763685]])"
      ]
     },
     "execution_count": 32,
     "metadata": {},
     "output_type": "execute_result"
    }
   ],
   "source": [
    "\n",
    "scaled_train[:10]"
   ]
  },
  {
   "cell_type": "code",
   "execution_count": 33,
   "id": "b6339f3a",
   "metadata": {},
   "outputs": [
    {
     "ename": "ModuleNotFoundError",
     "evalue": "No module named 'tensorflow'",
     "output_type": "error",
     "traceback": [
      "\u001b[1;31m---------------------------------------------------------------------------\u001b[0m",
      "\u001b[1;31mModuleNotFoundError\u001b[0m                       Traceback (most recent call last)",
      "\u001b[1;32mc:\\Users\\Admn\\.vscode\\vscode.GIT\\USS-DMDB-Taller2\\USS-DMDB-Taller2\\Parte 4.ipynb Cell 16'\u001b[0m in \u001b[0;36m<cell line: 1>\u001b[1;34m()\u001b[0m\n\u001b[1;32m----> <a href='vscode-notebook-cell:/c%3A/Users/Admn/.vscode/vscode.GIT/USS-DMDB-Taller2/USS-DMDB-Taller2/Parte%204.ipynb#ch0000011?line=0'>1</a>\u001b[0m \u001b[39mfrom\u001b[39;00m \u001b[39mkeras\u001b[39;00m\u001b[39m.\u001b[39;00m\u001b[39mpreprocessing\u001b[39;00m\u001b[39m.\u001b[39;00m\u001b[39msequence\u001b[39;00m \u001b[39mimport\u001b[39;00m TimeseriesGenerator\n",
      "File \u001b[1;32mc:\\Users\\Admn\\anaconda3\\lib\\site-packages\\keras\\__init__.py:21\u001b[0m, in \u001b[0;36m<module>\u001b[1;34m\u001b[0m\n\u001b[0;32m     15\u001b[0m \u001b[39m\"\"\"Implementation of the Keras API, the high-level API of TensorFlow.\u001b[39;00m\n\u001b[0;32m     16\u001b[0m \n\u001b[0;32m     17\u001b[0m \u001b[39mDetailed documentation and user guides are available at\u001b[39;00m\n\u001b[0;32m     18\u001b[0m \u001b[39m[keras.io](https://keras.io).\u001b[39;00m\n\u001b[0;32m     19\u001b[0m \u001b[39m\"\"\"\u001b[39;00m\n\u001b[0;32m     20\u001b[0m \u001b[39m# pylint: disable=unused-import\u001b[39;00m\n\u001b[1;32m---> 21\u001b[0m \u001b[39mfrom\u001b[39;00m \u001b[39mtensorflow\u001b[39;00m\u001b[39m.\u001b[39;00m\u001b[39mpython\u001b[39;00m \u001b[39mimport\u001b[39;00m tf2\n\u001b[0;32m     22\u001b[0m \u001b[39mfrom\u001b[39;00m \u001b[39mkeras\u001b[39;00m \u001b[39mimport\u001b[39;00m distribute\n\u001b[0;32m     24\u001b[0m \u001b[39m# See b/110718070#comment18 for more details about this import.\u001b[39;00m\n",
      "\u001b[1;31mModuleNotFoundError\u001b[0m: No module named 'tensorflow'"
     ]
    }
   ],
   "source": [
    "from keras.preprocessing.sequence import TimeseriesGenerator"
   ]
  },
  {
   "cell_type": "code",
   "execution_count": null,
   "id": "e9c56dba",
   "metadata": {},
   "outputs": [],
   "source": [
    "# define generator\n",
    "n_input = 1\n",
    "n_features = 1\n",
    "generator = TimeseriesGenerator(scaled_train, scaled_train, length=n_input, batch_size=1)"
   ]
  },
  {
   "cell_type": "code",
   "execution_count": 107,
   "id": "5a19602c",
   "metadata": {},
   "outputs": [
    {
     "ename": "NameError",
     "evalue": "name 'generator' is not defined",
     "output_type": "error",
     "traceback": [
      "\u001b[1;31m---------------------------------------------------------------------------\u001b[0m",
      "\u001b[1;31mNameError\u001b[0m                                 Traceback (most recent call last)",
      "Input \u001b[1;32mIn [107]\u001b[0m, in \u001b[0;36m<cell line: 1>\u001b[1;34m()\u001b[0m\n\u001b[1;32m----> 1\u001b[0m X,y \u001b[38;5;241m=\u001b[39m \u001b[43mgenerator\u001b[49m[\u001b[38;5;241m0\u001b[39m]\n\u001b[0;32m      2\u001b[0m \u001b[38;5;28mprint\u001b[39m(\u001b[38;5;124mf\u001b[39m\u001b[38;5;124m'\u001b[39m\u001b[38;5;124mGiven the Array: \u001b[39m\u001b[38;5;130;01m\\n\u001b[39;00m\u001b[38;5;132;01m{\u001b[39;00mX\u001b[38;5;241m.\u001b[39mflatten()\u001b[38;5;132;01m}\u001b[39;00m\u001b[38;5;124m'\u001b[39m)\n\u001b[0;32m      3\u001b[0m \u001b[38;5;28mprint\u001b[39m(\u001b[38;5;124mf\u001b[39m\u001b[38;5;124m'\u001b[39m\u001b[38;5;124mPredict this y: \u001b[39m\u001b[38;5;130;01m\\n\u001b[39;00m\u001b[38;5;124m \u001b[39m\u001b[38;5;132;01m{\u001b[39;00my\u001b[38;5;132;01m}\u001b[39;00m\u001b[38;5;124m'\u001b[39m)\n",
      "\u001b[1;31mNameError\u001b[0m: name 'generator' is not defined"
     ]
    }
   ],
   "source": [
    "X,y = generator[0]\n",
    "print(f'Given the Array: \\n{X.flatten()}')\n",
    "print(f'Predict this y: \\n {y}')"
   ]
  },
  {
   "cell_type": "code",
   "execution_count": 34,
   "id": "e6d9fd16",
   "metadata": {},
   "outputs": [
    {
     "ename": "NameError",
     "evalue": "name 'X' is not defined",
     "output_type": "error",
     "traceback": [
      "\u001b[1;31m---------------------------------------------------------------------------\u001b[0m",
      "\u001b[1;31mNameError\u001b[0m                                 Traceback (most recent call last)",
      "\u001b[1;32mc:\\Users\\Admn\\.vscode\\vscode.GIT\\USS-DMDB-Taller2\\USS-DMDB-Taller2\\Parte 4.ipynb Cell 19'\u001b[0m in \u001b[0;36m<cell line: 1>\u001b[1;34m()\u001b[0m\n\u001b[1;32m----> <a href='vscode-notebook-cell:/c%3A/Users/Admn/.vscode/vscode.GIT/USS-DMDB-Taller2/USS-DMDB-Taller2/Parte%204.ipynb#ch0000014?line=0'>1</a>\u001b[0m X\u001b[39m.\u001b[39mshape\n",
      "\u001b[1;31mNameError\u001b[0m: name 'X' is not defined"
     ]
    }
   ],
   "source": [
    "X.shape"
   ]
  },
  {
   "cell_type": "code",
   "execution_count": null,
   "id": "bcd259c8",
   "metadata": {},
   "outputs": [],
   "source": [
    "n_input = 12\n",
    "generator = TimeseriesGenerator(scaled_train, scaled_train, length=n_input, batch_size=1)"
   ]
  },
  {
   "cell_type": "code",
   "execution_count": null,
   "id": "89dd3d8c",
   "metadata": {},
   "outputs": [],
   "source": [
    "from keras.models import Sequential\n",
    "from keras.layers import Dense\n",
    "from keras.layers import LSTM"
   ]
  },
  {
   "cell_type": "code",
   "execution_count": null,
   "id": "d1747952",
   "metadata": {},
   "outputs": [],
   "source": [
    "# define model\n",
    "model = Sequential()\n",
    "model.add(LSTM(100, activation='relu', input_shape=(n_input, n_features)))\n",
    "model.add(Dense(1))\n",
    "model.compile(optimizer='adam', loss='mse')"
   ]
  },
  {
   "cell_type": "code",
   "execution_count": null,
   "id": "98912224",
   "metadata": {},
   "outputs": [],
   "source": [
    "model.summary()"
   ]
  },
  {
   "cell_type": "code",
   "execution_count": null,
   "id": "73d0b30e",
   "metadata": {},
   "outputs": [],
   "source": [
    "loss_per_epoch = model.history.history['loss']\n",
    "plt.plot(range(len(loss_per_epoch)),loss_per_epoch)"
   ]
  },
  {
   "cell_type": "code",
   "execution_count": null,
   "id": "f754b09c",
   "metadata": {},
   "outputs": [],
   "source": [
    "last_train_batch = scaled_train[-12:]\n",
    "last_train_batch = last_train_batch.reshape((1, n_input, n_features))\n",
    "model.predict(last_train_batch)"
   ]
  },
  {
   "cell_type": "code",
   "execution_count": null,
   "id": "b466d7fb",
   "metadata": {},
   "outputs": [],
   "source": [
    "scaled_test[0]"
   ]
  },
  {
   "cell_type": "code",
   "execution_count": null,
   "id": "dc8b5c1e",
   "metadata": {},
   "outputs": [],
   "source": [
    "test_predictions = []\n",
    "\n",
    "first_eval_batch = scaled_train[-n_input:]\n",
    "current_batch = first_eval_batch.reshape((1, n_input, n_features))\n",
    "\n",
    "for i in range(len(test)):\n",
    "    \n",
    "    current_pred = model.predict(current_batch)[0]\n",
    "    \n",
    "    test_predictions.append(current_pred) \n",
    "\n",
    "    current_batch = np.append(current_batch[:,1:,:],[[current_pred]],axis=1)"
   ]
  },
  {
   "cell_type": "code",
   "execution_count": null,
   "id": "de9a4bbb",
   "metadata": {},
   "outputs": [],
   "source": [
    "test_predictions"
   ]
  },
  {
   "cell_type": "code",
   "execution_count": null,
   "id": "83cab4c8",
   "metadata": {},
   "outputs": [],
   "source": [
    "test.head()"
   ]
  },
  {
   "cell_type": "code",
   "execution_count": null,
   "id": "c56aca91",
   "metadata": {},
   "outputs": [],
   "source": [
    "true_predictions = scaler.inverse_transform(test_predictions)\n",
    "test['ID'] = true_predictions"
   ]
  },
  {
   "cell_type": "code",
   "execution_count": null,
   "id": "6cc2126f",
   "metadata": {},
   "outputs": [],
   "source": [
    "test.plot(figsize=(14,5))"
   ]
  },
  {
   "cell_type": "code",
   "execution_count": null,
   "id": "f04bf850",
   "metadata": {},
   "outputs": [],
   "source": [
    "from sklearn.metrics import mean_squared_error\n",
    "from math import sqrt\n",
    "rmse=sqrt(mean_squared_error(test['ID'],test['id']))\n",
    "print(rmse)"
   ]
  }
 ],
 "metadata": {
  "kernelspec": {
   "display_name": "Python 3.9.12 ('base')",
   "language": "python",
   "name": "python3"
  },
  "language_info": {
   "codemirror_mode": {
    "name": "ipython",
    "version": 3
   },
   "file_extension": ".py",
   "mimetype": "text/x-python",
   "name": "python",
   "nbconvert_exporter": "python",
   "pygments_lexer": "ipython3",
   "version": "3.9.12"
  },
  "vscode": {
   "interpreter": {
    "hash": "fcae4b4f37530c8cf1a24c8e3ede967dd867b084d4c993fb95ce5ad46628ecf8"
   }
  }
 },
 "nbformat": 4,
 "nbformat_minor": 5
}
